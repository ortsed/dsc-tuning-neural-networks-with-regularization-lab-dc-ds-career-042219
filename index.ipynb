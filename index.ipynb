{
 "cells": [
  {
   "cell_type": "markdown",
   "metadata": {},
   "source": [
    "# Tuning Neural Networks with Regularization - Lab"
   ]
  },
  {
   "cell_type": "markdown",
   "metadata": {},
   "source": [
    "## Introduction\n",
    "\n",
    "Recall from the last lab that you had a training accuracy close to 90% and a test set accuracy close to 76%.\n",
    "\n",
    "As with your previous machine learning work, you should be asking a couple of questions:\n",
    "- Is there a high bias? yes/no\n",
    "- Is there a high variance? yes/no \n",
    "\n",
    "In this lab, you'll use the a train-validate-test partition to get better insights of how to tune neural networks using regularization techniques. You'll start by repeating the process from the last section: importing the data and performing preprocessing including one-hot encoding. Then, just before you go on to train the model, you'll see how to include a validation set. From there, you'll define and compile the model like before. However, this time, when you are presented with the `history` dictionary of the model, you will have additional data entries for not only the train and test set but also the validation set.\n",
    "\n",
    "## Objectives\n",
    "\n",
    "You will be able to:\n",
    "\n",
    "* Construct and run a basic model in Keras\n",
    "* Construct a validation set and explain potential benefits\n",
    "* Apply L1 and L2 regularization\n",
    "* Apply dropout regularization\n",
    "* Observe and comment on the effect of using more data"
   ]
  },
  {
   "cell_type": "markdown",
   "metadata": {},
   "source": [
    "## Import the libraries\n",
    "\n",
    "As usual, start by importing some of the packages and modules that you intend to use. The first thing you'll be doing is importing the data and taking a random sample, so that should clue you in to what tools to import. If you need more tools down the line, you can always import additional packages later."
   ]
  },
  {
   "cell_type": "code",
   "execution_count": 2,
   "metadata": {},
   "outputs": [],
   "source": [
    "from keras import models\n",
    "from keras import layers\n",
    "from keras import optimizers\n",
    "import pandas as pd\n"
   ]
  },
  {
   "cell_type": "markdown",
   "metadata": {},
   "source": [
    "## Load the Data\n",
    "\n",
    "As with the previous lab, the data is stored in a file **Bank_complaints.csv**. Load and preview the dataset."
   ]
  },
  {
   "cell_type": "code",
   "execution_count": 3,
   "metadata": {},
   "outputs": [],
   "source": [
    "df = pd.read_csv(\"Bank_complaints.csv\")"
   ]
  },
  {
   "cell_type": "markdown",
   "metadata": {},
   "source": [
    "## Preprocessing Overview\n",
    "\n",
    "Before you begin to practice some of your new tools regarding regularization and optimization, let's practice munging some data as you did in the previous section with bank complaints. Recall some techniques:\n",
    "\n",
    "* Sampling in order to reduce training time (investigate model accuracy vs data size later on)\n",
    "* One-hot encoding your complaint text\n",
    "* Transforming your category labels\n",
    "* Train - test split"
   ]
  },
  {
   "cell_type": "markdown",
   "metadata": {},
   "source": [
    "## Preprocessing: Generate a Random Sample\n",
    "\n",
    "Since you have quite a bit of data and training networks takes a substantial amount of time and resources, downsample in order to test your initial pipeline. Going forward, these can be interesting areas of investigation: how does your models performance change as you increase (or decrease) the size of your dataset?  \n",
    "\n",
    "Generate the random sample using seed 123 for consistency of results. Make your new sample have 10,000 observations."
   ]
  },
  {
   "cell_type": "code",
   "execution_count": 4,
   "metadata": {},
   "outputs": [],
   "source": [
    "sample = df.sample(random_state=123, n=10000)"
   ]
  },
  {
   "cell_type": "markdown",
   "metadata": {},
   "source": [
    "## Preprocessing: One-hot Encoding of the Complaints\n",
    "\n",
    "As before, you need to do some preprocessing and data manipulationg before building the neural network. \n",
    "\n",
    "Keep the 2,000 most common words and use one-hot encoding to reformat the complaints into a matrix of vectors."
   ]
  },
  {
   "cell_type": "code",
   "execution_count": 7,
   "metadata": {},
   "outputs": [],
   "source": [
    "import numpy as np"
   ]
  },
  {
   "cell_type": "code",
   "execution_count": 18,
   "metadata": {},
   "outputs": [
    {
     "data": {
      "text/plain": [
       "(10000, 2000)"
      ]
     },
     "execution_count": 18,
     "metadata": {},
     "output_type": "execute_result"
    }
   ],
   "source": [
    "#Yyour code here; use one-hot encoding to reformat the complaints into a matrix of vectors.\n",
    "#Only keep the 2000 most common words.\n",
    "from keras.preprocessing.text import Tokenizer\n",
    "tokenizer = Tokenizer(num_words=2000)\n",
    "tokenizer.fit_on_texts(sample[\"Consumer complaint narrative\"])\n",
    "\n",
    "one_hot_results= tokenizer.texts_to_matrix(sample[\"Consumer complaint narrative\"], mode='binary')\n",
    "word_index = tokenizer.word_index\n",
    "np.shape(one_hot_results)"
   ]
  },
  {
   "cell_type": "markdown",
   "metadata": {},
   "source": [
    "## Preprocessing: Encoding the Products\n",
    "\n",
    "Similarly, now transform the descriptive product labels to integers labels. After transforming them to integer labels, retransform them into a matrix of binary flags, one for each of the various product labels.  \n",
    "  \n",
    "> **Note**: This is similar to your previous work with dummy variables. Each of the various product categories will be its own column, and each observation will be a row. In turn, each of these observation rows will have a 1 in the column associated with it's label, and all other entries for the row will be zero."
   ]
  },
  {
   "cell_type": "code",
   "execution_count": 13,
   "metadata": {},
   "outputs": [
    {
     "data": {
      "text/html": [
       "<div>\n",
       "<style scoped>\n",
       "    .dataframe tbody tr th:only-of-type {\n",
       "        vertical-align: middle;\n",
       "    }\n",
       "\n",
       "    .dataframe tbody tr th {\n",
       "        vertical-align: top;\n",
       "    }\n",
       "\n",
       "    .dataframe thead th {\n",
       "        text-align: right;\n",
       "    }\n",
       "</style>\n",
       "<table border=\"1\" class=\"dataframe\">\n",
       "  <thead>\n",
       "    <tr style=\"text-align: right;\">\n",
       "      <th></th>\n",
       "      <th>Product</th>\n",
       "      <th>Consumer complaint narrative</th>\n",
       "    </tr>\n",
       "  </thead>\n",
       "  <tbody>\n",
       "    <tr>\n",
       "      <th>29561</th>\n",
       "      <td>Consumer Loan</td>\n",
       "      <td>I want to file a \" Bait and Switch '' Complain...</td>\n",
       "    </tr>\n",
       "    <tr>\n",
       "      <th>26640</th>\n",
       "      <td>Bank account or service</td>\n",
       "      <td>I am an account holder for my personal, busine...</td>\n",
       "    </tr>\n",
       "    <tr>\n",
       "      <th>24498</th>\n",
       "      <td>Bank account or service</td>\n",
       "      <td>they took my whole social security check i had...</td>\n",
       "    </tr>\n",
       "    <tr>\n",
       "      <th>24594</th>\n",
       "      <td>Bank account or service</td>\n",
       "      <td>This is in dispute of my Case number : XXXX. I...</td>\n",
       "    </tr>\n",
       "    <tr>\n",
       "      <th>24249</th>\n",
       "      <td>Bank account or service</td>\n",
       "      <td>My Bluebird card that i used for bill pay was ...</td>\n",
       "    </tr>\n",
       "  </tbody>\n",
       "</table>\n",
       "</div>"
      ],
      "text/plain": [
       "                       Product  \\\n",
       "29561            Consumer Loan   \n",
       "26640  Bank account or service   \n",
       "24498  Bank account or service   \n",
       "24594  Bank account or service   \n",
       "24249  Bank account or service   \n",
       "\n",
       "                            Consumer complaint narrative  \n",
       "29561  I want to file a \" Bait and Switch '' Complain...  \n",
       "26640  I am an account holder for my personal, busine...  \n",
       "24498  they took my whole social security check i had...  \n",
       "24594  This is in dispute of my Case number : XXXX. I...  \n",
       "24249  My Bluebird card that i used for bill pay was ...  "
      ]
     },
     "execution_count": 13,
     "metadata": {},
     "output_type": "execute_result"
    }
   ],
   "source": [
    "sample.head()"
   ]
  },
  {
   "cell_type": "code",
   "execution_count": 17,
   "metadata": {
    "scrolled": true
   },
   "outputs": [],
   "source": [
    "#Your code here; transform the product labels to numerical values\n",
    "#Then transform these integer values into a matrix of binary flags\n",
    "from sklearn.preprocessing import LabelEncoder\n",
    "from keras.utils import to_categorical\n",
    "le = LabelEncoder()\n",
    "le.fit(sample.Product)\n",
    "product_cat = le.transform(sample.Product) \n",
    "\n",
    "product_onehot = to_categorical(product_cat)"
   ]
  },
  {
   "cell_type": "code",
   "execution_count": null,
   "metadata": {},
   "outputs": [],
   "source": []
  },
  {
   "cell_type": "markdown",
   "metadata": {},
   "source": [
    "## Train-test Split\n",
    "\n",
    "Now onto the ever familiar train-test split! \n",
    "Below, perform an appropriate train test split.\n",
    "> Be sure to split both the complaint data (now transformed into word vectors) as well as their associated labels. "
   ]
  },
  {
   "cell_type": "code",
   "execution_count": 20,
   "metadata": {},
   "outputs": [],
   "source": [
    "from sklearn.model_selection import train_test_split"
   ]
  },
  {
   "cell_type": "code",
   "execution_count": 21,
   "metadata": {},
   "outputs": [],
   "source": [
    "X_train, X_test, y_train, y_test = train_test_split(one_hot_results, product_onehot, test_size = 0.2)\n"
   ]
  },
  {
   "cell_type": "code",
   "execution_count": null,
   "metadata": {},
   "outputs": [],
   "source": [
    "#Yyour code here\n",
    "X_train = \n",
    "X_test = \n",
    "y_train = \n",
    "y_test = "
   ]
  },
  {
   "cell_type": "markdown",
   "metadata": {},
   "source": [
    "## Running the model using a validation set."
   ]
  },
  {
   "cell_type": "markdown",
   "metadata": {},
   "source": [
    "## Creating the Validation Set"
   ]
  },
  {
   "cell_type": "markdown",
   "metadata": {},
   "source": [
    "In the lecture, you saw that in deep learning, you generally set aside a validation set, which is then used during hyperparameter tuning. Afterwards, when you have decided upon a final model, the test can then be used to define the final model perforance. \n",
    "\n",
    "In this example, take the first 1000 cases out of the training set to create a validation set. You should do this for both `train` and `label_train`."
   ]
  },
  {
   "cell_type": "code",
   "execution_count": 23,
   "metadata": {},
   "outputs": [],
   "source": [
    "#Just run this block of code \n",
    "np.random.seed(123)\n",
    "val = X_train[:1000]\n",
    "train_final = X_train[1000:]\n",
    "label_val = y_train[:1000]\n",
    "label_train_final = y_train[1000:]"
   ]
  },
  {
   "cell_type": "code",
   "execution_count": 26,
   "metadata": {},
   "outputs": [
    {
     "data": {
      "text/plain": [
       "(1000, 7)"
      ]
     },
     "execution_count": 26,
     "metadata": {},
     "output_type": "execute_result"
    }
   ],
   "source": [
    "label_val.shape"
   ]
  },
  {
   "cell_type": "markdown",
   "metadata": {},
   "source": [
    "## Creating the Model"
   ]
  },
  {
   "cell_type": "markdown",
   "metadata": {},
   "source": [
    "Rebuild a fully connected (Dense) layer network with relu activations in Keras."
   ]
  },
  {
   "cell_type": "markdown",
   "metadata": {},
   "source": [
    "Recall that you used 2 hidden with 50 units in the first layer and 25 in the second, both with a `relu` activation function. Because you are dealing with a multiclass problem (classifying the complaints into 7 classes), use a softmax classifyer in order to output 7 class probabilities per case. "
   ]
  },
  {
   "cell_type": "code",
   "execution_count": 32,
   "metadata": {},
   "outputs": [],
   "source": [
    "#Your code here; build a neural network using Keras as described above.\n",
    "model = models.Sequential()\n",
    "model.add(layers.Dense(50, activation='relu'))\n",
    "model.add(layers.Dense(7, activation='relu'))"
   ]
  },
  {
   "cell_type": "markdown",
   "metadata": {},
   "source": [
    "## Compiling the Model\n",
    "In the compiler, you'll be passing the optimizer, loss function, and metrics. Train the model for 120 epochs in mini-batches of 256 samples. This time, include the argument `validation_data` and assign it `(val, label_val)`"
   ]
  },
  {
   "cell_type": "code",
   "execution_count": 33,
   "metadata": {},
   "outputs": [],
   "source": [
    "model.compile(loss='categorical_crossentropy', optimizer=\"SGD\", metrics=['accuracy'], validation_data=(val, label_val))\n"
   ]
  },
  {
   "cell_type": "markdown",
   "metadata": {},
   "source": [
    "## Training the Model\n",
    "\n",
    "Ok, now for the resource intensive part: time to train your model! Note that this is where you also introduce the validation data to the model."
   ]
  },
  {
   "cell_type": "code",
   "execution_count": 34,
   "metadata": {},
   "outputs": [
    {
     "name": "stdout",
     "output_type": "stream",
     "text": [
      "Train on 7000 samples, validate on 1000 samples\n",
      "Epoch 1/120\n",
      "7000/7000 [==============================] - 0s 67us/step - loss: 2.1745 - acc: 0.1721 - val_loss: 1.8687 - val_acc: 0.2150\n",
      "Epoch 2/120\n",
      "7000/7000 [==============================] - 0s 53us/step - loss: 1.8544 - acc: 0.2329 - val_loss: 1.8269 - val_acc: 0.2780\n",
      "Epoch 3/120\n",
      "7000/7000 [==============================] - 0s 49us/step - loss: 1.7945 - acc: 0.2984 - val_loss: 1.7748 - val_acc: 0.3130\n",
      "Epoch 4/120\n",
      "7000/7000 [==============================] - 0s 33us/step - loss: 1.7216 - acc: 0.3580 - val_loss: 1.7557 - val_acc: 0.3580\n",
      "Epoch 5/120\n",
      "7000/7000 [==============================] - 0s 34us/step - loss: 2.2691 - acc: 0.1687 - val_loss: 2.3151 - val_acc: 0.1220\n",
      "Epoch 6/120\n",
      "7000/7000 [==============================] - 0s 32us/step - loss: 2.2468 - acc: 0.1399 - val_loss: 2.2425 - val_acc: 0.1220\n",
      "Epoch 7/120\n",
      "7000/7000 [==============================] - 0s 33us/step - loss: 2.1902 - acc: 0.1399 - val_loss: 2.1963 - val_acc: 0.1220\n",
      "Epoch 8/120\n",
      "7000/7000 [==============================] - 0s 32us/step - loss: 2.1521 - acc: 0.1399 - val_loss: 2.1625 - val_acc: 0.1220\n",
      "Epoch 9/120\n",
      "7000/7000 [==============================] - 0s 32us/step - loss: 2.1236 - acc: 0.1399 - val_loss: 2.1364 - val_acc: 0.1220\n",
      "Epoch 10/120\n",
      "7000/7000 [==============================] - 0s 31us/step - loss: 2.1012 - acc: 0.1399 - val_loss: 2.1152 - val_acc: 0.1220\n",
      "Epoch 11/120\n",
      "7000/7000 [==============================] - 0s 31us/step - loss: 2.0827 - acc: 0.1399 - val_loss: 2.0972 - val_acc: 0.1220\n",
      "Epoch 12/120\n",
      "7000/7000 [==============================] - 0s 33us/step - loss: 2.0669 - acc: 0.1399 - val_loss: 2.0819 - val_acc: 0.1220\n",
      "Epoch 13/120\n",
      "7000/7000 [==============================] - 0s 33us/step - loss: 2.0535 - acc: 0.1399 - val_loss: 2.0684 - val_acc: 0.1220\n",
      "Epoch 14/120\n",
      "7000/7000 [==============================] - 0s 32us/step - loss: 2.0417 - acc: 0.1399 - val_loss: 2.0567 - val_acc: 0.1220\n",
      "Epoch 15/120\n",
      "7000/7000 [==============================] - 0s 36us/step - loss: 2.0314 - acc: 0.1399 - val_loss: 2.0462 - val_acc: 0.1220\n",
      "Epoch 16/120\n",
      "7000/7000 [==============================] - 0s 46us/step - loss: 2.0221 - acc: 0.1399 - val_loss: 2.0367 - val_acc: 0.1220\n",
      "Epoch 17/120\n",
      "7000/7000 [==============================] - 0s 40us/step - loss: 2.0138 - acc: 0.1399 - val_loss: 2.0282 - val_acc: 0.1220\n",
      "Epoch 18/120\n",
      "7000/7000 [==============================] - 0s 31us/step - loss: 2.0063 - acc: 0.1399 - val_loss: 2.0203 - val_acc: 0.1220\n",
      "Epoch 19/120\n",
      "7000/7000 [==============================] - 0s 32us/step - loss: 1.9994 - acc: 0.1399 - val_loss: 2.0131 - val_acc: 0.1220\n",
      "Epoch 20/120\n",
      "7000/7000 [==============================] - 0s 32us/step - loss: 1.9931 - acc: 0.1399 - val_loss: 2.0065 - val_acc: 0.1220\n",
      "Epoch 21/120\n",
      "7000/7000 [==============================] - 0s 43us/step - loss: 1.9872 - acc: 0.1399 - val_loss: 2.0003 - val_acc: 0.1220\n",
      "Epoch 22/120\n",
      "7000/7000 [==============================] - 0s 40us/step - loss: 1.9818 - acc: 0.1399 - val_loss: 1.9946 - val_acc: 0.1220\n",
      "Epoch 23/120\n",
      "7000/7000 [==============================] - 0s 34us/step - loss: 1.9768 - acc: 0.1399 - val_loss: 1.9893 - val_acc: 0.1220\n",
      "Epoch 24/120\n",
      "7000/7000 [==============================] - 0s 36us/step - loss: 1.9722 - acc: 0.1399 - val_loss: 1.9843 - val_acc: 0.1220\n",
      "Epoch 25/120\n",
      "7000/7000 [==============================] - 0s 43us/step - loss: 1.9679 - acc: 0.1399 - val_loss: 1.9797 - val_acc: 0.1220\n",
      "Epoch 26/120\n",
      "7000/7000 [==============================] - 0s 40us/step - loss: 1.9638 - acc: 0.1399 - val_loss: 1.9754 - val_acc: 0.1220\n",
      "Epoch 27/120\n",
      "7000/7000 [==============================] - 0s 44us/step - loss: 1.9601 - acc: 0.1399 - val_loss: 1.9713 - val_acc: 0.1220\n",
      "Epoch 28/120\n",
      "7000/7000 [==============================] - 0s 34us/step - loss: 1.9565 - acc: 0.1399 - val_loss: 1.9673 - val_acc: 0.1220\n",
      "Epoch 29/120\n",
      "7000/7000 [==============================] - 0s 33us/step - loss: 1.9532 - acc: 0.1399 - val_loss: 1.9637 - val_acc: 0.1220\n",
      "Epoch 30/120\n",
      "7000/7000 [==============================] - 0s 39us/step - loss: 1.9500 - acc: 0.1399 - val_loss: 1.9602 - val_acc: 0.1220\n",
      "Epoch 31/120\n",
      "7000/7000 [==============================] - 0s 41us/step - loss: 1.9471 - acc: 0.1399 - val_loss: 1.9569 - val_acc: 0.1220\n",
      "Epoch 32/120\n",
      "7000/7000 [==============================] - 0s 38us/step - loss: 1.9442 - acc: 0.1399 - val_loss: 1.9537 - val_acc: 0.1220\n",
      "Epoch 33/120\n",
      "7000/7000 [==============================] - 0s 50us/step - loss: 1.9415 - acc: 0.1399 - val_loss: 1.9507 - val_acc: 0.1220\n",
      "Epoch 34/120\n",
      "7000/7000 [==============================] - 0s 40us/step - loss: 1.9390 - acc: 0.1399 - val_loss: 1.9480 - val_acc: 0.1220\n",
      "Epoch 35/120\n",
      "7000/7000 [==============================] - 0s 35us/step - loss: 1.9367 - acc: 0.1399 - val_loss: 1.9452 - val_acc: 0.1220\n",
      "Epoch 36/120\n",
      "7000/7000 [==============================] - 0s 39us/step - loss: 1.9344 - acc: 0.1399 - val_loss: 1.9427 - val_acc: 0.1220\n",
      "Epoch 37/120\n",
      "7000/7000 [==============================] - 0s 37us/step - loss: 1.9323 - acc: 0.1399 - val_loss: 1.9403 - val_acc: 0.1220\n",
      "Epoch 38/120\n",
      "7000/7000 [==============================] - 0s 33us/step - loss: 1.9303 - acc: 0.1399 - val_loss: 1.9379 - val_acc: 0.1220\n",
      "Epoch 39/120\n",
      "7000/7000 [==============================] - 0s 31us/step - loss: 1.9283 - acc: 0.1399 - val_loss: 1.9357 - val_acc: 0.1220\n",
      "Epoch 40/120\n",
      "7000/7000 [==============================] - 0s 50us/step - loss: 1.9265 - acc: 0.1399 - val_loss: 1.9336 - val_acc: 0.1220\n",
      "Epoch 41/120\n",
      "7000/7000 [==============================] - 0s 49us/step - loss: 1.9247 - acc: 0.1399 - val_loss: 1.9316 - val_acc: 0.1220\n",
      "Epoch 42/120\n",
      "7000/7000 [==============================] - 0s 36us/step - loss: 1.9231 - acc: 0.1399 - val_loss: 1.9296 - val_acc: 0.1220\n",
      "Epoch 43/120\n",
      "7000/7000 [==============================] - 0s 32us/step - loss: 1.9215 - acc: 0.1399 - val_loss: 1.9277 - val_acc: 0.1220\n",
      "Epoch 44/120\n",
      "7000/7000 [==============================] - 0s 32us/step - loss: 1.9200 - acc: 0.1399 - val_loss: 1.9259 - val_acc: 0.1220\n",
      "Epoch 45/120\n",
      "7000/7000 [==============================] - 0s 34us/step - loss: 1.9185 - acc: 0.1399 - val_loss: 1.9242 - val_acc: 0.1220\n",
      "Epoch 46/120\n",
      "7000/7000 [==============================] - 0s 33us/step - loss: 1.9171 - acc: 0.1399 - val_loss: 1.9226 - val_acc: 0.1220\n",
      "Epoch 47/120\n",
      "7000/7000 [==============================] - 0s 34us/step - loss: 1.9158 - acc: 0.1399 - val_loss: 1.9210 - val_acc: 0.1220\n",
      "Epoch 48/120\n",
      "7000/7000 [==============================] - 0s 31us/step - loss: 1.9145 - acc: 0.1399 - val_loss: 1.9195 - val_acc: 0.1220\n",
      "Epoch 49/120\n",
      "7000/7000 [==============================] - 0s 36us/step - loss: 1.9133 - acc: 0.1399 - val_loss: 1.9180 - val_acc: 0.1220\n",
      "Epoch 50/120\n",
      "7000/7000 [==============================] - 0s 30us/step - loss: 1.9121 - acc: 0.1400 - val_loss: 1.9166 - val_acc: 0.1220\n",
      "Epoch 51/120\n",
      "7000/7000 [==============================] - ETA: 0s - loss: 1.9109 - acc: 0.140 - 0s 37us/step - loss: 1.9109 - acc: 0.1404 - val_loss: 1.9152 - val_acc: 0.1240\n",
      "Epoch 52/120\n",
      "7000/7000 [==============================] - 0s 32us/step - loss: 1.9098 - acc: 0.1411 - val_loss: 1.9139 - val_acc: 0.1270\n",
      "Epoch 53/120\n",
      "7000/7000 [==============================] - 0s 36us/step - loss: 1.9088 - acc: 0.1439 - val_loss: 1.9127 - val_acc: 0.1310\n",
      "Epoch 54/120\n",
      "7000/7000 [==============================] - 0s 43us/step - loss: 1.9078 - acc: 0.1513 - val_loss: 1.9115 - val_acc: 0.1380\n",
      "Epoch 55/120\n",
      "7000/7000 [==============================] - 0s 40us/step - loss: 1.9068 - acc: 0.1609 - val_loss: 1.9103 - val_acc: 0.1540\n",
      "Epoch 56/120\n",
      "7000/7000 [==============================] - 0s 33us/step - loss: 1.9059 - acc: 0.1757 - val_loss: 1.9092 - val_acc: 0.1770\n",
      "Epoch 57/120\n",
      "7000/7000 [==============================] - 0s 32us/step - loss: 1.9050 - acc: 0.1946 - val_loss: 1.9081 - val_acc: 0.1890\n",
      "Epoch 58/120\n",
      "7000/7000 [==============================] - 0s 34us/step - loss: 1.9041 - acc: 0.2090 - val_loss: 1.9070 - val_acc: 0.2070\n",
      "Epoch 59/120\n",
      "7000/7000 [==============================] - 0s 36us/step - loss: 1.9032 - acc: 0.2140 - val_loss: 1.9060 - val_acc: 0.2100\n",
      "Epoch 60/120\n"
     ]
    },
    {
     "name": "stdout",
     "output_type": "stream",
     "text": [
      "7000/7000 [==============================] - 0s 46us/step - loss: 1.9024 - acc: 0.2123 - val_loss: 1.9050 - val_acc: 0.2090\n",
      "Epoch 61/120\n",
      "7000/7000 [==============================] - 0s 34us/step - loss: 1.9016 - acc: 0.2097 - val_loss: 1.9041 - val_acc: 0.2120\n",
      "Epoch 62/120\n",
      "7000/7000 [==============================] - 0s 34us/step - loss: 1.9008 - acc: 0.2053 - val_loss: 1.9031 - val_acc: 0.2110\n",
      "Epoch 63/120\n",
      "7000/7000 [==============================] - 0s 30us/step - loss: 1.9000 - acc: 0.1993 - val_loss: 1.9022 - val_acc: 0.2130\n",
      "Epoch 64/120\n",
      "7000/7000 [==============================] - 0s 32us/step - loss: 1.8993 - acc: 0.1956 - val_loss: 1.9012 - val_acc: 0.2110\n",
      "Epoch 65/120\n",
      "7000/7000 [==============================] - 0s 44us/step - loss: 1.8985 - acc: 0.1939 - val_loss: 1.9003 - val_acc: 0.2080\n",
      "Epoch 66/120\n",
      "7000/7000 [==============================] - 0s 42us/step - loss: 1.8978 - acc: 0.1921 - val_loss: 1.8995 - val_acc: 0.2060\n",
      "Epoch 67/120\n",
      "7000/7000 [==============================] - 0s 45us/step - loss: 1.8971 - acc: 0.1899 - val_loss: 1.8986 - val_acc: 0.2070\n",
      "Epoch 68/120\n",
      "7000/7000 [==============================] - 0s 37us/step - loss: 1.8964 - acc: 0.1887 - val_loss: 1.8977 - val_acc: 0.2060\n",
      "Epoch 69/120\n",
      "7000/7000 [==============================] - 0s 30us/step - loss: 1.8956 - acc: 0.1876 - val_loss: 1.8969 - val_acc: 0.2050\n",
      "Epoch 70/120\n",
      "7000/7000 [==============================] - 0s 32us/step - loss: 1.8949 - acc: 0.1869 - val_loss: 1.8961 - val_acc: 0.2050\n",
      "Epoch 71/120\n",
      "7000/7000 [==============================] - 0s 33us/step - loss: 1.8942 - acc: 0.1867 - val_loss: 1.8952 - val_acc: 0.2050\n",
      "Epoch 72/120\n",
      "7000/7000 [==============================] - 0s 39us/step - loss: 1.8935 - acc: 0.1861 - val_loss: 1.8944 - val_acc: 0.2040\n",
      "Epoch 73/120\n",
      "7000/7000 [==============================] - 0s 51us/step - loss: 1.8929 - acc: 0.1860 - val_loss: 1.8936 - val_acc: 0.2040\n",
      "Epoch 74/120\n",
      "7000/7000 [==============================] - 0s 35us/step - loss: 1.8922 - acc: 0.1864 - val_loss: 1.8928 - val_acc: 0.2040\n",
      "Epoch 75/120\n",
      "7000/7000 [==============================] - 0s 35us/step - loss: 1.8915 - acc: 0.1860 - val_loss: 1.8920 - val_acc: 0.2030\n",
      "Epoch 76/120\n",
      "7000/7000 [==============================] - 0s 37us/step - loss: 1.8908 - acc: 0.1857 - val_loss: 1.8913 - val_acc: 0.2030\n",
      "Epoch 77/120\n",
      "7000/7000 [==============================] - 0s 33us/step - loss: 1.8901 - acc: 0.1856 - val_loss: 1.8905 - val_acc: 0.2030\n",
      "Epoch 78/120\n",
      "7000/7000 [==============================] - 0s 32us/step - loss: 1.8894 - acc: 0.1857 - val_loss: 1.8897 - val_acc: 0.2040\n",
      "Epoch 79/120\n",
      "7000/7000 [==============================] - 0s 44us/step - loss: 1.8887 - acc: 0.1860 - val_loss: 1.8889 - val_acc: 0.2040\n",
      "Epoch 80/120\n",
      "7000/7000 [==============================] - 0s 49us/step - loss: 1.8880 - acc: 0.1860 - val_loss: 1.8881 - val_acc: 0.2040\n",
      "Epoch 81/120\n",
      "7000/7000 [==============================] - 0s 37us/step - loss: 1.8873 - acc: 0.1859 - val_loss: 1.8873 - val_acc: 0.2040\n",
      "Epoch 82/120\n",
      "7000/7000 [==============================] - 0s 32us/step - loss: 1.8866 - acc: 0.1860 - val_loss: 1.8866 - val_acc: 0.2040\n",
      "Epoch 83/120\n",
      "7000/7000 [==============================] - 0s 32us/step - loss: 1.8859 - acc: 0.1859 - val_loss: 1.8858 - val_acc: 0.2040\n",
      "Epoch 84/120\n",
      "7000/7000 [==============================] - 0s 33us/step - loss: 1.8852 - acc: 0.1860 - val_loss: 1.8850 - val_acc: 0.2040\n",
      "Epoch 85/120\n",
      "7000/7000 [==============================] - 0s 33us/step - loss: 1.8844 - acc: 0.1860 - val_loss: 1.8842 - val_acc: 0.2040\n",
      "Epoch 86/120\n",
      "7000/7000 [==============================] - 0s 34us/step - loss: 1.8837 - acc: 0.1864 - val_loss: 1.8834 - val_acc: 0.2040\n",
      "Epoch 87/120\n",
      "7000/7000 [==============================] - 0s 34us/step - loss: 1.8830 - acc: 0.1866 - val_loss: 1.8826 - val_acc: 0.2040\n",
      "Epoch 88/120\n",
      "7000/7000 [==============================] - 0s 31us/step - loss: 1.8822 - acc: 0.1867 - val_loss: 1.8818 - val_acc: 0.2040\n",
      "Epoch 89/120\n",
      "7000/7000 [==============================] - 0s 31us/step - loss: 1.8814 - acc: 0.1866 - val_loss: 1.8810 - val_acc: 0.2050\n",
      "Epoch 90/120\n",
      "7000/7000 [==============================] - 0s 33us/step - loss: 1.8806 - acc: 0.1866 - val_loss: 1.8801 - val_acc: 0.2050\n",
      "Epoch 91/120\n",
      "7000/7000 [==============================] - 0s 42us/step - loss: 1.8799 - acc: 0.1867 - val_loss: 1.8793 - val_acc: 0.2060\n",
      "Epoch 92/120\n",
      "7000/7000 [==============================] - 0s 39us/step - loss: 1.8790 - acc: 0.1867 - val_loss: 1.8784 - val_acc: 0.2060\n",
      "Epoch 93/120\n",
      "7000/7000 [==============================] - 0s 34us/step - loss: 1.8782 - acc: 0.1869 - val_loss: 1.8776 - val_acc: 0.2060\n",
      "Epoch 94/120\n",
      "7000/7000 [==============================] - 0s 37us/step - loss: 1.8774 - acc: 0.1869 - val_loss: 1.8767 - val_acc: 0.2050\n",
      "Epoch 95/120\n",
      "7000/7000 [==============================] - 0s 41us/step - loss: 1.8765 - acc: 0.1867 - val_loss: 1.8758 - val_acc: 0.2050\n",
      "Epoch 96/120\n",
      "7000/7000 [==============================] - 0s 33us/step - loss: 1.8757 - acc: 0.1869 - val_loss: 1.8749 - val_acc: 0.2060\n",
      "Epoch 97/120\n",
      "7000/7000 [==============================] - 0s 34us/step - loss: 1.8748 - acc: 0.1869 - val_loss: 1.8740 - val_acc: 0.2060\n",
      "Epoch 98/120\n",
      "7000/7000 [==============================] - 0s 35us/step - loss: 1.8739 - acc: 0.1870 - val_loss: 1.8731 - val_acc: 0.2060\n",
      "Epoch 99/120\n",
      "7000/7000 [==============================] - 0s 35us/step - loss: 1.8730 - acc: 0.1873 - val_loss: 1.8721 - val_acc: 0.2060\n",
      "Epoch 100/120\n",
      "7000/7000 [==============================] - 0s 44us/step - loss: 1.8720 - acc: 0.1876 - val_loss: 1.8712 - val_acc: 0.2070\n",
      "Epoch 101/120\n",
      "7000/7000 [==============================] - 0s 39us/step - loss: 1.8711 - acc: 0.1876 - val_loss: 1.8702 - val_acc: 0.2070\n",
      "Epoch 102/120\n",
      "7000/7000 [==============================] - 0s 37us/step - loss: 1.8701 - acc: 0.1877 - val_loss: 1.8692 - val_acc: 0.2070\n",
      "Epoch 103/120\n",
      "7000/7000 [==============================] - 0s 40us/step - loss: 1.8691 - acc: 0.1879 - val_loss: 1.8681 - val_acc: 0.2070\n",
      "Epoch 104/120\n",
      "7000/7000 [==============================] - 0s 34us/step - loss: 1.8681 - acc: 0.1886 - val_loss: 1.8671 - val_acc: 0.2090\n",
      "Epoch 105/120\n",
      "7000/7000 [==============================] - 0s 35us/step - loss: 1.8670 - acc: 0.1887 - val_loss: 1.8660 - val_acc: 0.2090\n",
      "Epoch 106/120\n",
      "7000/7000 [==============================] - 0s 39us/step - loss: 1.8659 - acc: 0.1890 - val_loss: 1.8649 - val_acc: 0.2090\n",
      "Epoch 107/120\n",
      "7000/7000 [==============================] - 0s 37us/step - loss: 1.8648 - acc: 0.1890 - val_loss: 1.8638 - val_acc: 0.2090\n",
      "Epoch 108/120\n",
      "7000/7000 [==============================] - 0s 33us/step - loss: 1.8637 - acc: 0.1893 - val_loss: 1.8627 - val_acc: 0.2110\n",
      "Epoch 109/120\n",
      "7000/7000 [==============================] - 0s 32us/step - loss: 1.8625 - acc: 0.1901 - val_loss: 1.8615 - val_acc: 0.2130\n",
      "Epoch 110/120\n",
      "7000/7000 [==============================] - 0s 31us/step - loss: 1.8614 - acc: 0.1906 - val_loss: 1.8603 - val_acc: 0.2140\n",
      "Epoch 111/120\n",
      "7000/7000 [==============================] - 0s 43us/step - loss: 1.8601 - acc: 0.1913 - val_loss: 1.8591 - val_acc: 0.2140\n",
      "Epoch 112/120\n",
      "7000/7000 [==============================] - 0s 39us/step - loss: 1.8589 - acc: 0.1927 - val_loss: 1.8578 - val_acc: 0.2140\n",
      "Epoch 113/120\n",
      "7000/7000 [==============================] - 0s 33us/step - loss: 1.8576 - acc: 0.1941 - val_loss: 1.8565 - val_acc: 0.2140\n",
      "Epoch 114/120\n",
      "7000/7000 [==============================] - 0s 33us/step - loss: 1.8562 - acc: 0.1951 - val_loss: 1.8552 - val_acc: 0.2150\n",
      "Epoch 115/120\n",
      "7000/7000 [==============================] - 0s 33us/step - loss: 1.8549 - acc: 0.1967 - val_loss: 1.8538 - val_acc: 0.2160\n",
      "Epoch 116/120\n",
      "7000/7000 [==============================] - 0s 29us/step - loss: 1.8535 - acc: 0.1986 - val_loss: 1.8524 - val_acc: 0.2170\n",
      "Epoch 117/120\n",
      "7000/7000 [==============================] - 0s 30us/step - loss: 1.8520 - acc: 0.1987 - val_loss: 1.8509 - val_acc: 0.2170\n",
      "Epoch 118/120\n",
      "7000/7000 [==============================] - 0s 32us/step - loss: 1.8505 - acc: 0.2007 - val_loss: 1.8494 - val_acc: 0.2180\n",
      "Epoch 119/120\n",
      "7000/7000 [==============================] - 0s 40us/step - loss: 1.8490 - acc: 0.2024 - val_loss: 1.8479 - val_acc: 0.2190\n"
     ]
    },
    {
     "name": "stdout",
     "output_type": "stream",
     "text": [
      "Epoch 120/120\n",
      "7000/7000 [==============================] - 0s 54us/step - loss: 1.8474 - acc: 0.2034 - val_loss: 1.8463 - val_acc: 0.2210\n"
     ]
    }
   ],
   "source": [
    "#Code provided; note the extra validation parameter passed.\n",
    "model_val = model.fit(train_final,\n",
    "                    label_train_final,\n",
    "                    epochs=120,\n",
    "                    batch_size=256,\n",
    "                    validation_data=(val, label_val))"
   ]
  },
  {
   "cell_type": "markdown",
   "metadata": {},
   "source": [
    "## Retrieving Performance Results: the `history` dictionary\n",
    "\n",
    "The dictionary `history` contains four entries this time: one per metric that was being monitored during training and during validation."
   ]
  },
  {
   "cell_type": "code",
   "execution_count": 35,
   "metadata": {},
   "outputs": [
    {
     "data": {
      "text/plain": [
       "dict_keys(['val_loss', 'val_acc', 'loss', 'acc'])"
      ]
     },
     "execution_count": 35,
     "metadata": {},
     "output_type": "execute_result"
    }
   ],
   "source": [
    "model_val_dict = model_val.history\n",
    "model_val_dict.keys()"
   ]
  },
  {
   "cell_type": "code",
   "execution_count": 36,
   "metadata": {},
   "outputs": [
    {
     "name": "stdout",
     "output_type": "stream",
     "text": [
      "7000/7000 [==============================] - 0s 56us/step\n"
     ]
    }
   ],
   "source": [
    "results_train = model.evaluate(train_final, label_train_final)"
   ]
  },
  {
   "cell_type": "code",
   "execution_count": 37,
   "metadata": {},
   "outputs": [
    {
     "name": "stdout",
     "output_type": "stream",
     "text": [
      "2000/2000 [==============================] - 0s 72us/step\n"
     ]
    }
   ],
   "source": [
    "results_test = model.evaluate(X_test, y_test)"
   ]
  },
  {
   "cell_type": "code",
   "execution_count": 38,
   "metadata": {},
   "outputs": [
    {
     "data": {
      "text/plain": [
       "[1.846470379965646, 0.2047142857142857]"
      ]
     },
     "execution_count": 38,
     "metadata": {},
     "output_type": "execute_result"
    }
   ],
   "source": [
    "results_train"
   ]
  },
  {
   "cell_type": "code",
   "execution_count": 39,
   "metadata": {},
   "outputs": [
    {
     "data": {
      "text/plain": [
       "[1.8545295238494872, 0.2]"
      ]
     },
     "execution_count": 39,
     "metadata": {},
     "output_type": "execute_result"
    }
   ],
   "source": [
    "results_test"
   ]
  },
  {
   "cell_type": "markdown",
   "metadata": {},
   "source": [
    "Note that the result isn't exactly the same as before. Note that this because the training set is slightly different! you remove 1000 instances for validation!"
   ]
  },
  {
   "cell_type": "markdown",
   "metadata": {},
   "source": [
    "## Plotting the Results"
   ]
  },
  {
   "cell_type": "markdown",
   "metadata": {},
   "source": [
    "Plot the loss function versus the number of epochs. Be sure to include the training and the validation loss in the same plot. Then, create a second plot comparing training and validation accuracy to the number of epochs."
   ]
  },
  {
   "cell_type": "code",
   "execution_count": 41,
   "metadata": {},
   "outputs": [
    {
     "data": {
      "image/png": "[encoded data removed]",
      "text/plain": [
       "<Figure size 432x288 with 1 Axes>"
      ]
     },
     "metadata": {
      "needs_background": "light"
     },
     "output_type": "display_data"
    }
   ],
   "source": [
    "import matplotlib.pyplot as plt\n",
    "%matplotlib inline\n",
    "plt.clf()\n",
    "\n",
    "import matplotlib.pyplot as plt\n",
    "loss_values = model_val_dict['loss']\n",
    "val_loss_values = model_val_dict['val_loss']\n",
    "\n",
    "epochs = range(1, len(loss_values) + 1)\n",
    "plt.plot(epochs, loss_values, 'g', label='Training loss')\n",
    "plt.plot(epochs, val_loss_values, 'blue', label='Validation loss')\n",
    "\n",
    "plt.title('Training & validation loss')\n",
    "plt.xlabel('Epochs')\n",
    "plt.ylabel('Loss')\n",
    "plt.legend()\n",
    "plt.show()"
   ]
  },
  {
   "cell_type": "code",
   "execution_count": 42,
   "metadata": {},
   "outputs": [
    {
     "data": {
      "image/png": "[encoded data removed]",
      "text/plain": [
       "<Figure size 432x288 with 1 Axes>"
      ]
     },
     "metadata": {
      "needs_background": "light"
     },
     "output_type": "display_data"
    }
   ],
   "source": [
    "plt.clf()\n",
    "\n",
    "acc_values = model_val_dict['acc'] \n",
    "val_acc_values = model_val_dict['val_acc']\n",
    "\n",
    "plt.plot(epochs, acc_values, 'r', label='Training acc')\n",
    "plt.plot(epochs, val_acc_values, 'blue', label='Validation acc')\n",
    "plt.title('Training & validation accuracy')\n",
    "plt.xlabel('Epochs')\n",
    "plt.ylabel('Loss')\n",
    "plt.legend()\n",
    "plt.show()"
   ]
  },
  {
   "cell_type": "markdown",
   "metadata": {},
   "source": [
    "Notice an interesting pattern here: although the training accuracy keeps increasing when going through more epochs, and the training loss keeps decreasing, the validation accuracy and loss seem to be reaching a limit around the 60th epoch. This means that you're probably **overfitting** the model to the training data when you train for many epochs past this dropoff point of around 40 epochs. Luckily, you learned how to tackle overfitting in the previous lecture! Since it seems clear that you are training too long, include early stopping at the 60th epoch first."
   ]
  },
  {
   "cell_type": "markdown",
   "metadata": {},
   "source": [
    "## Early Stopping\n",
    "\n",
    "Below, observe how to update the model to include an earlier cutoff point:"
   ]
  },
  {
   "cell_type": "code",
   "execution_count": 44,
   "metadata": {},
   "outputs": [
    {
     "name": "stdout",
     "output_type": "stream",
     "text": [
      "Train on 7000 samples, validate on 1000 samples\n",
      "Epoch 1/60\n",
      "7000/7000 [==============================] - 0s 68us/step - loss: 1.9643 - acc: 0.1583 - val_loss: 1.9249 - val_acc: 0.2010\n",
      "Epoch 2/60\n",
      "7000/7000 [==============================] - 0s 36us/step - loss: 1.9347 - acc: 0.1833 - val_loss: 1.9114 - val_acc: 0.2230\n",
      "Epoch 3/60\n",
      "7000/7000 [==============================] - 0s 34us/step - loss: 1.9180 - acc: 0.2067 - val_loss: 1.8989 - val_acc: 0.2460\n",
      "Epoch 4/60\n",
      "7000/7000 [==============================] - 0s 32us/step - loss: 1.9028 - acc: 0.2247 - val_loss: 1.8846 - val_acc: 0.2620\n",
      "Epoch 5/60\n",
      "7000/7000 [==============================] - 0s 30us/step - loss: 1.8870 - acc: 0.2421 - val_loss: 1.8680 - val_acc: 0.2710\n",
      "Epoch 6/60\n",
      "7000/7000 [==============================] - 0s 34us/step - loss: 1.8697 - acc: 0.2550 - val_loss: 1.8503 - val_acc: 0.2870\n",
      "Epoch 7/60\n",
      "7000/7000 [==============================] - 0s 36us/step - loss: 1.8508 - acc: 0.2690 - val_loss: 1.8307 - val_acc: 0.2880\n",
      "Epoch 8/60\n",
      "7000/7000 [==============================] - 0s 36us/step - loss: 1.8302 - acc: 0.2850 - val_loss: 1.8101 - val_acc: 0.3090\n",
      "Epoch 9/60\n",
      "7000/7000 [==============================] - 0s 56us/step - loss: 1.8075 - acc: 0.3010 - val_loss: 1.7888 - val_acc: 0.3330\n",
      "Epoch 10/60\n",
      "7000/7000 [==============================] - 0s 49us/step - loss: 1.7830 - acc: 0.3220 - val_loss: 1.7660 - val_acc: 0.3590\n",
      "Epoch 11/60\n",
      "7000/7000 [==============================] - 0s 36us/step - loss: 1.7558 - acc: 0.3466 - val_loss: 1.7371 - val_acc: 0.3720\n",
      "Epoch 12/60\n",
      "7000/7000 [==============================] - 0s 36us/step - loss: 1.7263 - acc: 0.3587 - val_loss: 1.7105 - val_acc: 0.3960\n",
      "Epoch 13/60\n",
      "7000/7000 [==============================] - 0s 33us/step - loss: 1.6940 - acc: 0.3880 - val_loss: 1.6771 - val_acc: 0.4080\n",
      "Epoch 14/60\n",
      "7000/7000 [==============================] - 0s 37us/step - loss: 1.6586 - acc: 0.4074 - val_loss: 1.6440 - val_acc: 0.4250\n",
      "Epoch 15/60\n",
      "7000/7000 [==============================] - 0s 33us/step - loss: 1.6207 - acc: 0.4349 - val_loss: 1.6066 - val_acc: 0.4480\n",
      "Epoch 16/60\n",
      "7000/7000 [==============================] - 0s 32us/step - loss: 1.5797 - acc: 0.4573 - val_loss: 1.5688 - val_acc: 0.4750\n",
      "Epoch 17/60\n",
      "7000/7000 [==============================] - 0s 35us/step - loss: 1.5365 - acc: 0.4981 - val_loss: 1.5275 - val_acc: 0.4920\n",
      "Epoch 18/60\n",
      "7000/7000 [==============================] - 0s 34us/step - loss: 1.4914 - acc: 0.5221 - val_loss: 1.4839 - val_acc: 0.5180\n",
      "Epoch 19/60\n",
      "7000/7000 [==============================] - 0s 35us/step - loss: 1.4448 - acc: 0.5471 - val_loss: 1.4400 - val_acc: 0.5460\n",
      "Epoch 20/60\n",
      "7000/7000 [==============================] - 0s 33us/step - loss: 1.3968 - acc: 0.5681 - val_loss: 1.3975 - val_acc: 0.5700\n",
      "Epoch 21/60\n",
      "7000/7000 [==============================] - 0s 33us/step - loss: 1.3486 - acc: 0.5859 - val_loss: 1.3582 - val_acc: 0.5900\n",
      "Epoch 22/60\n",
      "7000/7000 [==============================] - 0s 34us/step - loss: 1.3006 - acc: 0.6106 - val_loss: 1.3103 - val_acc: 0.6140\n",
      "Epoch 23/60\n",
      "7000/7000 [==============================] - 0s 46us/step - loss: 1.2536 - acc: 0.6293 - val_loss: 1.2651 - val_acc: 0.6170\n",
      "Epoch 24/60\n",
      "7000/7000 [==============================] - 0s 36us/step - loss: 1.2084 - acc: 0.6401 - val_loss: 1.2280 - val_acc: 0.6300\n",
      "Epoch 25/60\n",
      "7000/7000 [==============================] - 0s 32us/step - loss: 1.1647 - acc: 0.6556 - val_loss: 1.1899 - val_acc: 0.6350\n",
      "Epoch 26/60\n",
      "7000/7000 [==============================] - 0s 32us/step - loss: 1.1230 - acc: 0.6706 - val_loss: 1.1520 - val_acc: 0.6470\n",
      "Epoch 27/60\n",
      "7000/7000 [==============================] - 0s 35us/step - loss: 1.0843 - acc: 0.6800 - val_loss: 1.1183 - val_acc: 0.6450\n",
      "Epoch 28/60\n",
      "7000/7000 [==============================] - 0s 45us/step - loss: 1.0478 - acc: 0.6890 - val_loss: 1.0852 - val_acc: 0.6490\n",
      "Epoch 29/60\n",
      "7000/7000 [==============================] - 0s 41us/step - loss: 1.0147 - acc: 0.6974 - val_loss: 1.0550 - val_acc: 0.6600\n",
      "Epoch 30/60\n",
      "7000/7000 [==============================] - 0s 34us/step - loss: 0.9829 - acc: 0.7037 - val_loss: 1.0318 - val_acc: 0.6590\n",
      "Epoch 31/60\n",
      "7000/7000 [==============================] - 0s 32us/step - loss: 0.9537 - acc: 0.7107 - val_loss: 1.0089 - val_acc: 0.6710\n",
      "Epoch 32/60\n",
      "7000/7000 [==============================] - 0s 32us/step - loss: 0.9268 - acc: 0.7153 - val_loss: 0.9819 - val_acc: 0.6820\n",
      "Epoch 33/60\n",
      "7000/7000 [==============================] - 0s 33us/step - loss: 0.9023 - acc: 0.7196 - val_loss: 0.9620 - val_acc: 0.6860\n",
      "Epoch 34/60\n",
      "7000/7000 [==============================] - 0s 51us/step - loss: 0.8789 - acc: 0.7226 - val_loss: 0.9438 - val_acc: 0.6860\n",
      "Epoch 35/60\n",
      "7000/7000 [==============================] - 0s 34us/step - loss: 0.8579 - acc: 0.7277 - val_loss: 0.9239 - val_acc: 0.6890\n",
      "Epoch 36/60\n",
      "7000/7000 [==============================] - 0s 31us/step - loss: 0.8383 - acc: 0.7321 - val_loss: 0.9106 - val_acc: 0.6970\n",
      "Epoch 37/60\n",
      "7000/7000 [==============================] - 0s 34us/step - loss: 0.8194 - acc: 0.7351 - val_loss: 0.8977 - val_acc: 0.6930\n",
      "Epoch 38/60\n",
      "7000/7000 [==============================] - 0s 33us/step - loss: 0.8027 - acc: 0.7383 - val_loss: 0.8822 - val_acc: 0.6900\n",
      "Epoch 39/60\n",
      "7000/7000 [==============================] - 0s 31us/step - loss: 0.7869 - acc: 0.7431 - val_loss: 0.8715 - val_acc: 0.6980\n",
      "Epoch 40/60\n",
      "7000/7000 [==============================] - 0s 32us/step - loss: 0.7719 - acc: 0.7459 - val_loss: 0.8587 - val_acc: 0.6990\n",
      "Epoch 41/60\n",
      "7000/7000 [==============================] - 0s 34us/step - loss: 0.7582 - acc: 0.7476 - val_loss: 0.8472 - val_acc: 0.6950\n",
      "Epoch 42/60\n",
      "7000/7000 [==============================] - 0s 34us/step - loss: 0.7453 - acc: 0.7521 - val_loss: 0.8379 - val_acc: 0.7000\n",
      "Epoch 43/60\n",
      "7000/7000 [==============================] - 0s 33us/step - loss: 0.7329 - acc: 0.7519 - val_loss: 0.8336 - val_acc: 0.7010\n",
      "Epoch 44/60\n",
      "7000/7000 [==============================] - 0s 32us/step - loss: 0.7212 - acc: 0.7573 - val_loss: 0.8221 - val_acc: 0.7010\n",
      "Epoch 45/60\n",
      "7000/7000 [==============================] - 0s 33us/step - loss: 0.7106 - acc: 0.7604 - val_loss: 0.8142 - val_acc: 0.7020\n",
      "Epoch 46/60\n",
      "7000/7000 [==============================] - 0s 31us/step - loss: 0.7002 - acc: 0.7644 - val_loss: 0.8086 - val_acc: 0.7040\n",
      "Epoch 47/60\n",
      "7000/7000 [==============================] - 0s 32us/step - loss: 0.6902 - acc: 0.7659 - val_loss: 0.7989 - val_acc: 0.7040\n",
      "Epoch 48/60\n",
      "7000/7000 [==============================] - 0s 33us/step - loss: 0.6809 - acc: 0.7697 - val_loss: 0.7954 - val_acc: 0.7060\n",
      "Epoch 49/60\n",
      "7000/7000 [==============================] - 0s 48us/step - loss: 0.6719 - acc: 0.7703 - val_loss: 0.7897 - val_acc: 0.7080\n",
      "Epoch 50/60\n",
      "7000/7000 [==============================] - 0s 44us/step - loss: 0.6634 - acc: 0.7741 - val_loss: 0.7856 - val_acc: 0.7100\n",
      "Epoch 51/60\n",
      "7000/7000 [==============================] - 0s 31us/step - loss: 0.6554 - acc: 0.7800 - val_loss: 0.7803 - val_acc: 0.7130\n",
      "Epoch 52/60\n",
      "7000/7000 [==============================] - 0s 32us/step - loss: 0.6474 - acc: 0.7773 - val_loss: 0.7744 - val_acc: 0.7140\n",
      "Epoch 53/60\n",
      "7000/7000 [==============================] - 0s 32us/step - loss: 0.6398 - acc: 0.7804 - val_loss: 0.7710 - val_acc: 0.7120\n",
      "Epoch 54/60\n",
      "7000/7000 [==============================] - 0s 36us/step - loss: 0.6328 - acc: 0.7843 - val_loss: 0.7705 - val_acc: 0.7150\n",
      "Epoch 55/60\n",
      "7000/7000 [==============================] - 0s 35us/step - loss: 0.6256 - acc: 0.7870 - val_loss: 0.7704 - val_acc: 0.7150\n",
      "Epoch 56/60\n",
      "7000/7000 [==============================] - 0s 35us/step - loss: 0.6187 - acc: 0.7897 - val_loss: 0.7595 - val_acc: 0.7140\n",
      "Epoch 57/60\n",
      "7000/7000 [==============================] - 0s 35us/step - loss: 0.6124 - acc: 0.7899 - val_loss: 0.7634 - val_acc: 0.7200\n",
      "Epoch 58/60\n",
      "7000/7000 [==============================] - 0s 34us/step - loss: 0.6055 - acc: 0.7943 - val_loss: 0.7593 - val_acc: 0.7220\n",
      "Epoch 59/60\n",
      "7000/7000 [==============================] - 0s 34us/step - loss: 0.5997 - acc: 0.7957 - val_loss: 0.7504 - val_acc: 0.7210\n",
      "Epoch 60/60\n",
      "7000/7000 [==============================] - 0s 32us/step - loss: 0.5935 - acc: 0.7989 - val_loss: 0.7526 - val_acc: 0.7190\n"
     ]
    }
   ],
   "source": [
    "np.random.seed(123)\n",
    "model = models.Sequential()\n",
    "model.add(layers.Dense(50, activation='relu', input_shape=(2000,))) #2 hidden layers\n",
    "model.add(layers.Dense(25, activation='relu'))\n",
    "model.add(layers.Dense(7, activation='softmax'))\n",
    "\n",
    "model.compile(optimizer='SGD',\n",
    "              loss='categorical_crossentropy',\n",
    "              metrics=['accuracy'])\n",
    "\n",
    "final_model = model.fit(train_final,\n",
    "                    label_train_final,\n",
    "                    epochs=60,\n",
    "                    batch_size=256,\n",
    "                    validation_data=(val, label_val))"
   ]
  },
  {
   "cell_type": "markdown",
   "metadata": {},
   "source": [
    "Now, you can use the test set to make label predictions"
   ]
  },
  {
   "cell_type": "code",
   "execution_count": 45,
   "metadata": {},
   "outputs": [
    {
     "name": "stdout",
     "output_type": "stream",
     "text": [
      "7000/7000 [==============================] - 0s 55us/step\n"
     ]
    }
   ],
   "source": [
    "results_train = model.evaluate(train_final, label_train_final)"
   ]
  },
  {
   "cell_type": "code",
   "execution_count": 46,
   "metadata": {},
   "outputs": [
    {
     "name": "stdout",
     "output_type": "stream",
     "text": [
      "2000/2000 [==============================] - 0s 112us/step\n"
     ]
    }
   ],
   "source": [
    "results_test = model.evaluate(X_test, y_test)"
   ]
  },
  {
   "cell_type": "code",
   "execution_count": 47,
   "metadata": {},
   "outputs": [
    {
     "data": {
      "text/plain": [
       "[0.5888252187797002, 0.7981428570747375]"
      ]
     },
     "execution_count": 47,
     "metadata": {},
     "output_type": "execute_result"
    }
   ],
   "source": [
    "results_train"
   ]
  },
  {
   "cell_type": "code",
   "execution_count": 48,
   "metadata": {},
   "outputs": [
    {
     "data": {
      "text/plain": [
       "[0.7261311588287354, 0.727]"
      ]
     },
     "execution_count": 48,
     "metadata": {},
     "output_type": "execute_result"
    }
   ],
   "source": [
    "results_test"
   ]
  },
  {
   "cell_type": "markdown",
   "metadata": {},
   "source": [
    "We've significantly reduced the variance, so this is already pretty good! your test set accuracy is slightly worse, but this model will definitely be more robust than the 120 epochs model you originally fit.\n",
    "\n",
    "Now, take a look at how regularization techniques can further improve your model performance."
   ]
  },
  {
   "cell_type": "markdown",
   "metadata": {},
   "source": [
    "## L2 Regularization"
   ]
  },
  {
   "cell_type": "markdown",
   "metadata": {},
   "source": [
    "First, take a look at L2 regularization. Keras makes L2 regularization easy. Simply add the `kernel_regularizer=kernel_regulizers.l2(lamda_coeff)` parameter to any model layer. The lambda_coeff parameter determines the strength of the regularization you wish to perform."
   ]
  },
  {
   "cell_type": "code",
   "execution_count": 49,
   "metadata": {},
   "outputs": [
    {
     "name": "stdout",
     "output_type": "stream",
     "text": [
      "Train on 7000 samples, validate on 1000 samples\n",
      "Epoch 1/120\n",
      "7000/7000 [==============================] - 0s 68us/step - loss: 2.6191 - acc: 0.1583 - val_loss: 2.5778 - val_acc: 0.2010\n",
      "Epoch 2/120\n",
      "7000/7000 [==============================] - 0s 47us/step - loss: 2.5857 - acc: 0.1834 - val_loss: 2.5607 - val_acc: 0.2230\n",
      "Epoch 3/120\n",
      "7000/7000 [==============================] - 0s 52us/step - loss: 2.5656 - acc: 0.2069 - val_loss: 2.5449 - val_acc: 0.2450\n",
      "Epoch 4/120\n",
      "7000/7000 [==============================] - 0s 44us/step - loss: 2.5471 - acc: 0.2250 - val_loss: 2.5275 - val_acc: 0.2620\n",
      "Epoch 5/120\n",
      "7000/7000 [==============================] - 0s 51us/step - loss: 2.5283 - acc: 0.2417 - val_loss: 2.5080 - val_acc: 0.2730\n",
      "Epoch 6/120\n",
      "7000/7000 [==============================] - 0s 46us/step - loss: 2.5082 - acc: 0.2559 - val_loss: 2.4874 - val_acc: 0.2870\n",
      "Epoch 7/120\n",
      "7000/7000 [==============================] - 0s 47us/step - loss: 2.4865 - acc: 0.2693 - val_loss: 2.4652 - val_acc: 0.2900\n",
      "Epoch 8/120\n",
      "7000/7000 [==============================] - 0s 41us/step - loss: 2.4634 - acc: 0.2837 - val_loss: 2.4423 - val_acc: 0.3090\n",
      "Epoch 9/120\n",
      "7000/7000 [==============================] - 0s 46us/step - loss: 2.4385 - acc: 0.3003 - val_loss: 2.4189 - val_acc: 0.3320\n",
      "Epoch 10/120\n",
      "7000/7000 [==============================] - 0s 42us/step - loss: 2.4122 - acc: 0.3179 - val_loss: 2.3942 - val_acc: 0.3610\n",
      "Epoch 11/120\n",
      "7000/7000 [==============================] - 0s 69us/step - loss: 2.3835 - acc: 0.3440 - val_loss: 2.3640 - val_acc: 0.3720\n",
      "Epoch 12/120\n",
      "7000/7000 [==============================] - 0s 45us/step - loss: 2.3528 - acc: 0.3563 - val_loss: 2.3358 - val_acc: 0.3920\n",
      "Epoch 13/120\n",
      "7000/7000 [==============================] - 0s 45us/step - loss: 2.3197 - acc: 0.3836 - val_loss: 2.3019 - val_acc: 0.4060\n",
      "Epoch 14/120\n",
      "7000/7000 [==============================] - 0s 41us/step - loss: 2.2839 - acc: 0.4036 - val_loss: 2.2682 - val_acc: 0.4250\n",
      "Epoch 15/120\n",
      "7000/7000 [==============================] - 0s 41us/step - loss: 2.2460 - acc: 0.4291 - val_loss: 2.2309 - val_acc: 0.4440\n",
      "Epoch 16/120\n",
      "7000/7000 [==============================] - 0s 40us/step - loss: 2.2054 - acc: 0.4537 - val_loss: 2.1934 - val_acc: 0.4650\n",
      "Epoch 17/120\n",
      "7000/7000 [==============================] - 0s 42us/step - loss: 2.1631 - acc: 0.4897 - val_loss: 2.1528 - val_acc: 0.4880\n",
      "Epoch 18/120\n",
      "7000/7000 [==============================] - 0s 41us/step - loss: 2.1190 - acc: 0.5151 - val_loss: 2.1099 - val_acc: 0.5200\n",
      "Epoch 19/120\n",
      "7000/7000 [==============================] - 0s 44us/step - loss: 2.0737 - acc: 0.5419 - val_loss: 2.0671 - val_acc: 0.5450\n",
      "Epoch 20/120\n",
      "7000/7000 [==============================] - 0s 47us/step - loss: 2.0270 - acc: 0.5616 - val_loss: 2.0254 - val_acc: 0.5710\n",
      "Epoch 21/120\n",
      "7000/7000 [==============================] - 0s 50us/step - loss: 1.9798 - acc: 0.5801 - val_loss: 1.9863 - val_acc: 0.5890\n",
      "Epoch 22/120\n",
      "7000/7000 [==============================] - 0s 48us/step - loss: 1.9328 - acc: 0.6047 - val_loss: 1.9394 - val_acc: 0.6100\n",
      "Epoch 23/120\n",
      "7000/7000 [==============================] - 0s 41us/step - loss: 1.8864 - acc: 0.6229 - val_loss: 1.8946 - val_acc: 0.6150\n",
      "Epoch 24/120\n",
      "7000/7000 [==============================] - 0s 40us/step - loss: 1.8417 - acc: 0.6323 - val_loss: 1.8572 - val_acc: 0.6270\n",
      "Epoch 25/120\n",
      "7000/7000 [==============================] - 0s 40us/step - loss: 1.7981 - acc: 0.6503 - val_loss: 1.8189 - val_acc: 0.6340\n",
      "Epoch 26/120\n",
      "7000/7000 [==============================] - 0s 57us/step - loss: 1.7562 - acc: 0.6657 - val_loss: 1.7803 - val_acc: 0.6420\n",
      "Epoch 27/120\n",
      "7000/7000 [==============================] - 0s 41us/step - loss: 1.7169 - acc: 0.6756 - val_loss: 1.7457 - val_acc: 0.6490\n",
      "Epoch 28/120\n",
      "7000/7000 [==============================] - 0s 48us/step - loss: 1.6797 - acc: 0.6843 - val_loss: 1.7111 - val_acc: 0.6530\n",
      "Epoch 29/120\n",
      "7000/7000 [==============================] - 0s 47us/step - loss: 1.6455 - acc: 0.6923 - val_loss: 1.6794 - val_acc: 0.6510\n",
      "Epoch 30/120\n",
      "7000/7000 [==============================] - 0s 43us/step - loss: 1.6124 - acc: 0.6993 - val_loss: 1.6541 - val_acc: 0.6620\n",
      "Epoch 31/120\n",
      "7000/7000 [==============================] - 0s 39us/step - loss: 1.5816 - acc: 0.7041 - val_loss: 1.6295 - val_acc: 0.6670\n",
      "Epoch 32/120\n",
      "7000/7000 [==============================] - 0s 41us/step - loss: 1.5530 - acc: 0.7120 - val_loss: 1.6003 - val_acc: 0.6770\n",
      "Epoch 33/120\n",
      "7000/7000 [==============================] - 0s 47us/step - loss: 1.5268 - acc: 0.7174 - val_loss: 1.5783 - val_acc: 0.6850\n",
      "Epoch 34/120\n",
      "7000/7000 [==============================] - 0s 39us/step - loss: 1.5017 - acc: 0.7199 - val_loss: 1.5578 - val_acc: 0.6810\n",
      "Epoch 35/120\n",
      "7000/7000 [==============================] - 0s 43us/step - loss: 1.4789 - acc: 0.7250 - val_loss: 1.5355 - val_acc: 0.6900\n",
      "Epoch 36/120\n",
      "7000/7000 [==============================] - 0s 49us/step - loss: 1.4576 - acc: 0.7299 - val_loss: 1.5201 - val_acc: 0.6930\n",
      "Epoch 37/120\n",
      "7000/7000 [==============================] - 0s 46us/step - loss: 1.4369 - acc: 0.7331 - val_loss: 1.5049 - val_acc: 0.6930\n",
      "Epoch 38/120\n",
      "7000/7000 [==============================] - 0s 44us/step - loss: 1.4184 - acc: 0.7359 - val_loss: 1.4869 - val_acc: 0.6960\n",
      "Epoch 39/120\n",
      "7000/7000 [==============================] - 0s 42us/step - loss: 1.4008 - acc: 0.7420 - val_loss: 1.4740 - val_acc: 0.6970\n",
      "Epoch 40/120\n",
      "7000/7000 [==============================] - 0s 48us/step - loss: 1.3841 - acc: 0.7439 - val_loss: 1.4594 - val_acc: 0.7050\n",
      "Epoch 41/120\n",
      "7000/7000 [==============================] - 0s 42us/step - loss: 1.3685 - acc: 0.7453 - val_loss: 1.4458 - val_acc: 0.7020\n",
      "Epoch 42/120\n",
      "7000/7000 [==============================] - 0s 51us/step - loss: 1.3539 - acc: 0.7483 - val_loss: 1.4344 - val_acc: 0.7020\n",
      "Epoch 43/120\n",
      "7000/7000 [==============================] - 0s 58us/step - loss: 1.3399 - acc: 0.7503 - val_loss: 1.4279 - val_acc: 0.7030\n",
      "Epoch 44/120\n",
      "7000/7000 [==============================] - 0s 41us/step - loss: 1.3264 - acc: 0.7534 - val_loss: 1.4138 - val_acc: 0.7020\n",
      "Epoch 45/120\n",
      "7000/7000 [==============================] - 0s 42us/step - loss: 1.3141 - acc: 0.7547 - val_loss: 1.4038 - val_acc: 0.7040\n",
      "Epoch 46/120\n",
      "7000/7000 [==============================] - 0s 46us/step - loss: 1.3020 - acc: 0.7596 - val_loss: 1.3964 - val_acc: 0.7020\n",
      "Epoch 47/120\n",
      "7000/7000 [==============================] - 0s 42us/step - loss: 1.2903 - acc: 0.7596 - val_loss: 1.3848 - val_acc: 0.7020\n",
      "Epoch 48/120\n",
      "7000/7000 [==============================] - 0s 43us/step - loss: 1.2793 - acc: 0.7653 - val_loss: 1.3791 - val_acc: 0.7070\n",
      "Epoch 49/120\n",
      "7000/7000 [==============================] - 0s 48us/step - loss: 1.2687 - acc: 0.7651 - val_loss: 1.3708 - val_acc: 0.7000\n",
      "Epoch 50/120\n",
      "7000/7000 [==============================] - 0s 44us/step - loss: 1.2586 - acc: 0.7701 - val_loss: 1.3647 - val_acc: 0.7090\n",
      "Epoch 51/120\n",
      "7000/7000 [==============================] - 0s 39us/step - loss: 1.2489 - acc: 0.7710 - val_loss: 1.3576 - val_acc: 0.7120\n",
      "Epoch 52/120\n",
      "7000/7000 [==============================] - 0s 41us/step - loss: 1.2393 - acc: 0.7730 - val_loss: 1.3500 - val_acc: 0.7120\n",
      "Epoch 53/120\n",
      "7000/7000 [==============================] - 0s 51us/step - loss: 1.2301 - acc: 0.7756 - val_loss: 1.3439 - val_acc: 0.7170\n",
      "Epoch 54/120\n",
      "7000/7000 [==============================] - 0s 56us/step - loss: 1.2215 - acc: 0.7786 - val_loss: 1.3407 - val_acc: 0.7150\n",
      "Epoch 55/120\n",
      "7000/7000 [==============================] - 0s 52us/step - loss: 1.2127 - acc: 0.7813 - val_loss: 1.3395 - val_acc: 0.7150\n",
      "Epoch 56/120\n",
      "7000/7000 [==============================] - 0s 55us/step - loss: 1.2042 - acc: 0.7841 - val_loss: 1.3263 - val_acc: 0.7140\n",
      "Epoch 57/120\n",
      "7000/7000 [==============================] - 0s 46us/step - loss: 1.1964 - acc: 0.7831 - val_loss: 1.3277 - val_acc: 0.7210\n",
      "Epoch 58/120\n",
      "7000/7000 [==============================] - 0s 57us/step - loss: 1.1880 - acc: 0.7874 - val_loss: 1.3214 - val_acc: 0.7220\n",
      "Epoch 59/120\n",
      "7000/7000 [==============================] - 0s 48us/step - loss: 1.1807 - acc: 0.7880 - val_loss: 1.3105 - val_acc: 0.7190\n",
      "Epoch 60/120\n"
     ]
    },
    {
     "name": "stdout",
     "output_type": "stream",
     "text": [
      "7000/7000 [==============================] - 0s 59us/step - loss: 1.1730 - acc: 0.7901 - val_loss: 1.3101 - val_acc: 0.7200\n",
      "Epoch 61/120\n",
      "7000/7000 [==============================] - 0s 53us/step - loss: 1.1659 - acc: 0.7939 - val_loss: 1.3034 - val_acc: 0.7210\n",
      "Epoch 62/120\n",
      "7000/7000 [==============================] - 0s 46us/step - loss: 1.1591 - acc: 0.7949 - val_loss: 1.2974 - val_acc: 0.7230\n",
      "Epoch 63/120\n",
      "7000/7000 [==============================] - 0s 49us/step - loss: 1.1516 - acc: 0.7959 - val_loss: 1.2956 - val_acc: 0.7240\n",
      "Epoch 64/120\n",
      "7000/7000 [==============================] - 0s 46us/step - loss: 1.1450 - acc: 0.7959 - val_loss: 1.2869 - val_acc: 0.7240\n",
      "Epoch 65/120\n",
      "7000/7000 [==============================] - 0s 46us/step - loss: 1.1383 - acc: 0.7994 - val_loss: 1.2834 - val_acc: 0.7210\n",
      "Epoch 66/120\n",
      "7000/7000 [==============================] - 0s 45us/step - loss: 1.1314 - acc: 0.8040 - val_loss: 1.2773 - val_acc: 0.7240\n",
      "Epoch 67/120\n",
      "7000/7000 [==============================] - 0s 43us/step - loss: 1.1251 - acc: 0.8050 - val_loss: 1.2751 - val_acc: 0.7290\n",
      "Epoch 68/120\n",
      "7000/7000 [==============================] - 0s 41us/step - loss: 1.1186 - acc: 0.8043 - val_loss: 1.2774 - val_acc: 0.7290\n",
      "Epoch 69/120\n",
      "7000/7000 [==============================] - 0s 45us/step - loss: 1.1125 - acc: 0.8086 - val_loss: 1.2701 - val_acc: 0.7310\n",
      "Epoch 70/120\n",
      "7000/7000 [==============================] - 0s 44us/step - loss: 1.1063 - acc: 0.8096 - val_loss: 1.2680 - val_acc: 0.7260\n",
      "Epoch 71/120\n",
      "7000/7000 [==============================] - 0s 42us/step - loss: 1.1004 - acc: 0.8119 - val_loss: 1.2576 - val_acc: 0.7290\n",
      "Epoch 72/120\n",
      "7000/7000 [==============================] - 1s 75us/step - loss: 1.0943 - acc: 0.8111 - val_loss: 1.2593 - val_acc: 0.7310\n",
      "Epoch 73/120\n",
      "7000/7000 [==============================] - 0s 46us/step - loss: 1.0884 - acc: 0.8141 - val_loss: 1.2519 - val_acc: 0.7320\n",
      "Epoch 74/120\n",
      "7000/7000 [==============================] - 0s 42us/step - loss: 1.0828 - acc: 0.8147 - val_loss: 1.2517 - val_acc: 0.7350\n",
      "Epoch 75/120\n",
      "7000/7000 [==============================] - 0s 41us/step - loss: 1.0770 - acc: 0.8193 - val_loss: 1.2471 - val_acc: 0.7320\n",
      "Epoch 76/120\n",
      "7000/7000 [==============================] - 0s 42us/step - loss: 1.0715 - acc: 0.8213 - val_loss: 1.2429 - val_acc: 0.7310\n",
      "Epoch 77/120\n",
      "7000/7000 [==============================] - 0s 41us/step - loss: 1.0658 - acc: 0.8216 - val_loss: 1.2423 - val_acc: 0.7360\n",
      "Epoch 78/120\n",
      "7000/7000 [==============================] - 0s 42us/step - loss: 1.0604 - acc: 0.8226 - val_loss: 1.2367 - val_acc: 0.7360\n",
      "Epoch 79/120\n",
      "7000/7000 [==============================] - 0s 44us/step - loss: 1.0550 - acc: 0.8233 - val_loss: 1.2379 - val_acc: 0.7370\n",
      "Epoch 80/120\n",
      "7000/7000 [==============================] - 0s 42us/step - loss: 1.0498 - acc: 0.8260 - val_loss: 1.2328 - val_acc: 0.7390\n",
      "Epoch 81/120\n",
      "7000/7000 [==============================] - 0s 39us/step - loss: 1.0447 - acc: 0.8249 - val_loss: 1.2275 - val_acc: 0.7350\n",
      "Epoch 82/120\n",
      "7000/7000 [==============================] - 0s 44us/step - loss: 1.0391 - acc: 0.8284 - val_loss: 1.2239 - val_acc: 0.7370\n",
      "Epoch 83/120\n",
      "7000/7000 [==============================] - 0s 60us/step - loss: 1.0344 - acc: 0.8303 - val_loss: 1.2213 - val_acc: 0.7320\n",
      "Epoch 84/120\n",
      "7000/7000 [==============================] - 0s 42us/step - loss: 1.0293 - acc: 0.8303 - val_loss: 1.2186 - val_acc: 0.7400\n",
      "Epoch 85/120\n",
      "7000/7000 [==============================] - 0s 43us/step - loss: 1.0240 - acc: 0.8321 - val_loss: 1.2211 - val_acc: 0.7400\n",
      "Epoch 86/120\n",
      "7000/7000 [==============================] - 0s 39us/step - loss: 1.0192 - acc: 0.8323 - val_loss: 1.2129 - val_acc: 0.7390\n",
      "Epoch 87/120\n",
      "7000/7000 [==============================] - 0s 48us/step - loss: 1.0144 - acc: 0.8374 - val_loss: 1.2182 - val_acc: 0.7380\n",
      "Epoch 88/120\n",
      "7000/7000 [==============================] - 0s 54us/step - loss: 1.0098 - acc: 0.8350 - val_loss: 1.2095 - val_acc: 0.7360\n",
      "Epoch 89/120\n",
      "7000/7000 [==============================] - 0s 50us/step - loss: 1.0051 - acc: 0.8384 - val_loss: 1.2121 - val_acc: 0.7410\n",
      "Epoch 90/120\n",
      "7000/7000 [==============================] - 0s 51us/step - loss: 1.0000 - acc: 0.8391 - val_loss: 1.2014 - val_acc: 0.7390\n",
      "Epoch 91/120\n",
      "7000/7000 [==============================] - 0s 46us/step - loss: 0.9953 - acc: 0.8399 - val_loss: 1.2019 - val_acc: 0.7450\n",
      "Epoch 92/120\n",
      "7000/7000 [==============================] - 0s 55us/step - loss: 0.9902 - acc: 0.8434 - val_loss: 1.1957 - val_acc: 0.7400\n",
      "Epoch 93/120\n",
      "7000/7000 [==============================] - 0s 46us/step - loss: 0.9857 - acc: 0.8434 - val_loss: 1.1933 - val_acc: 0.7310\n",
      "Epoch 94/120\n",
      "7000/7000 [==============================] - 0s 43us/step - loss: 0.9816 - acc: 0.8426 - val_loss: 1.1982 - val_acc: 0.7430\n",
      "Epoch 95/120\n",
      "7000/7000 [==============================] - 0s 41us/step - loss: 0.9770 - acc: 0.8464 - val_loss: 1.1920 - val_acc: 0.7400\n",
      "Epoch 96/120\n",
      "7000/7000 [==============================] - 0s 43us/step - loss: 0.9721 - acc: 0.8457 - val_loss: 1.1923 - val_acc: 0.7370\n",
      "Epoch 97/120\n",
      "7000/7000 [==============================] - 0s 44us/step - loss: 0.9683 - acc: 0.8480 - val_loss: 1.1862 - val_acc: 0.7380\n",
      "Epoch 98/120\n",
      "7000/7000 [==============================] - 0s 41us/step - loss: 0.9636 - acc: 0.8477 - val_loss: 1.1832 - val_acc: 0.7410\n",
      "Epoch 99/120\n",
      "7000/7000 [==============================] - 0s 42us/step - loss: 0.9596 - acc: 0.8491 - val_loss: 1.1803 - val_acc: 0.7370\n",
      "Epoch 100/120\n",
      "7000/7000 [==============================] - 0s 41us/step - loss: 0.9549 - acc: 0.8504 - val_loss: 1.1841 - val_acc: 0.7300\n",
      "Epoch 101/120\n",
      "7000/7000 [==============================] - 0s 44us/step - loss: 0.9510 - acc: 0.8523 - val_loss: 1.1846 - val_acc: 0.7380\n",
      "Epoch 102/120\n",
      "7000/7000 [==============================] - 0s 41us/step - loss: 0.9471 - acc: 0.8530 - val_loss: 1.1742 - val_acc: 0.7410\n",
      "Epoch 103/120\n",
      "7000/7000 [==============================] - 0s 56us/step - loss: 0.9423 - acc: 0.8547 - val_loss: 1.1758 - val_acc: 0.7460\n",
      "Epoch 104/120\n",
      "7000/7000 [==============================] - 0s 63us/step - loss: 0.9382 - acc: 0.8540 - val_loss: 1.1744 - val_acc: 0.7360\n",
      "Epoch 105/120\n",
      "7000/7000 [==============================] - 0s 40us/step - loss: 0.9346 - acc: 0.8556 - val_loss: 1.1717 - val_acc: 0.7410\n",
      "Epoch 106/120\n",
      "7000/7000 [==============================] - 0s 40us/step - loss: 0.9300 - acc: 0.8569 - val_loss: 1.1768 - val_acc: 0.7410\n",
      "Epoch 107/120\n",
      "7000/7000 [==============================] - 0s 42us/step - loss: 0.9264 - acc: 0.8561 - val_loss: 1.1633 - val_acc: 0.7400\n",
      "Epoch 108/120\n",
      "7000/7000 [==============================] - 0s 43us/step - loss: 0.9226 - acc: 0.8597 - val_loss: 1.1680 - val_acc: 0.7310\n",
      "Epoch 109/120\n",
      "7000/7000 [==============================] - 0s 44us/step - loss: 0.9184 - acc: 0.8606 - val_loss: 1.1639 - val_acc: 0.7360\n",
      "Epoch 110/120\n",
      "7000/7000 [==============================] - 0s 47us/step - loss: 0.9147 - acc: 0.8601 - val_loss: 1.1608 - val_acc: 0.7340\n",
      "Epoch 111/120\n",
      "7000/7000 [==============================] - 0s 42us/step - loss: 0.9102 - acc: 0.8614 - val_loss: 1.1621 - val_acc: 0.7380\n",
      "Epoch 112/120\n",
      "7000/7000 [==============================] - 0s 43us/step - loss: 0.9070 - acc: 0.8640 - val_loss: 1.1535 - val_acc: 0.7440\n",
      "Epoch 113/120\n",
      "7000/7000 [==============================] - 0s 45us/step - loss: 0.9030 - acc: 0.8620 - val_loss: 1.1539 - val_acc: 0.7350\n",
      "Epoch 114/120\n",
      "7000/7000 [==============================] - 0s 43us/step - loss: 0.8988 - acc: 0.8643 - val_loss: 1.1549 - val_acc: 0.7480\n",
      "Epoch 115/120\n",
      "7000/7000 [==============================] - 0s 57us/step - loss: 0.8954 - acc: 0.8649 - val_loss: 1.1518 - val_acc: 0.7360\n",
      "Epoch 116/120\n",
      "7000/7000 [==============================] - 0s 42us/step - loss: 0.8914 - acc: 0.8666 - val_loss: 1.1482 - val_acc: 0.7390\n",
      "Epoch 117/120\n",
      "7000/7000 [==============================] - 0s 44us/step - loss: 0.8878 - acc: 0.8674 - val_loss: 1.1478 - val_acc: 0.7400\n",
      "Epoch 118/120\n",
      "7000/7000 [==============================] - 0s 43us/step - loss: 0.8840 - acc: 0.8666 - val_loss: 1.1429 - val_acc: 0.7450\n",
      "Epoch 119/120\n",
      "7000/7000 [==============================] - 0s 45us/step - loss: 0.8804 - acc: 0.8681 - val_loss: 1.1458 - val_acc: 0.7440\n"
     ]
    },
    {
     "name": "stdout",
     "output_type": "stream",
     "text": [
      "Epoch 120/120\n",
      "7000/7000 [==============================] - 0s 46us/step - loss: 0.8768 - acc: 0.8701 - val_loss: 1.1406 - val_acc: 0.7470\n"
     ]
    }
   ],
   "source": [
    "from keras import regularizers\n",
    "np.random.seed(123)\n",
    "model = models.Sequential()\n",
    "model.add(layers.Dense(50, activation='relu',kernel_regularizer=regularizers.l2(0.005), input_shape=(2000,))) #2 hidden layers\n",
    "model.add(layers.Dense(25, kernel_regularizer=regularizers.l2(0.005), activation='relu'))\n",
    "model.add(layers.Dense(7, activation='softmax'))\n",
    "\n",
    "model.compile(optimizer='SGD',\n",
    "              loss='categorical_crossentropy',\n",
    "              metrics=['accuracy'])\n",
    "\n",
    "L2_model = model.fit(train_final,\n",
    "                    label_train_final,\n",
    "                    epochs=120,\n",
    "                    batch_size=256,\n",
    "                    validation_data=(val, label_val))"
   ]
  },
  {
   "cell_type": "code",
   "execution_count": 51,
   "metadata": {},
   "outputs": [
    {
     "data": {
      "text/plain": [
       "dict_keys(['val_loss', 'val_acc', 'loss', 'acc'])"
      ]
     },
     "execution_count": 51,
     "metadata": {},
     "output_type": "execute_result"
    }
   ],
   "source": [
    "L2_model_dict = L2_model.history\n",
    "L2_model_dict.keys()"
   ]
  },
  {
   "cell_type": "markdown",
   "metadata": {},
   "source": [
    "Now, look at the training accuracy as well as the validation accuracy for both the L2 and the model without regularization (for 120 epochs)."
   ]
  },
  {
   "cell_type": "code",
   "execution_count": 52,
   "metadata": {},
   "outputs": [
    {
     "data": {
      "image/png": "[encoded data removed]",
      "text/plain": [
       "<Figure size 432x288 with 1 Axes>"
      ]
     },
     "metadata": {
      "needs_background": "light"
     },
     "output_type": "display_data"
    }
   ],
   "source": [
    "plt.clf()\n",
    "\n",
    "acc_values = L2_model_dict['acc'] \n",
    "val_acc_values = L2_model_dict['val_acc']\n",
    "model_acc = model_val_dict['acc']\n",
    "model_val_acc = model_val_dict['val_acc']\n",
    "\n",
    "epochs = range(1, len(acc_values) + 1)\n",
    "plt.plot(epochs, acc_values, 'g', label='Training acc L2')\n",
    "plt.plot(epochs, val_acc_values, 'g', label='Validation acc L2')\n",
    "plt.plot(epochs, model_acc, 'r', label='Training acc')\n",
    "plt.plot(epochs, model_val_acc, 'r', label='Validation acc')\n",
    "plt.title('Training & validation accuracy L2 vs regular')\n",
    "plt.xlabel('Epochs')\n",
    "plt.ylabel('Loss')\n",
    "plt.legend()\n",
    "plt.show()"
   ]
  },
  {
   "cell_type": "markdown",
   "metadata": {},
   "source": [
    "The results of L2 regularization are quite disappointing here. Notice the discrepancy between validation and training accuracy seems to have decreased slightly, but the end result is definitely not getting better. "
   ]
  },
  {
   "cell_type": "markdown",
   "metadata": {},
   "source": [
    "## L1 Regularization"
   ]
  },
  {
   "cell_type": "markdown",
   "metadata": {},
   "source": [
    "Have a look at L1 regularization. Will this work better?"
   ]
  },
  {
   "cell_type": "code",
   "execution_count": 53,
   "metadata": {},
   "outputs": [
    {
     "name": "stdout",
     "output_type": "stream",
     "text": [
      "Train on 7000 samples, validate on 1000 samples\n",
      "Epoch 1/120\n",
      "7000/7000 [==============================] - 1s 85us/step - loss: 16.0684 - acc: 0.1584 - val_loss: 15.6604 - val_acc: 0.1980\n",
      "Epoch 2/120\n",
      "7000/7000 [==============================] - 0s 43us/step - loss: 15.3470 - acc: 0.1844 - val_loss: 14.9664 - val_acc: 0.2260\n",
      "Epoch 3/120\n",
      "7000/7000 [==============================] - 0s 43us/step - loss: 14.6584 - acc: 0.2073 - val_loss: 14.2921 - val_acc: 0.2470\n",
      "Epoch 4/120\n",
      "7000/7000 [==============================] - 0s 42us/step - loss: 13.9905 - acc: 0.2246 - val_loss: 13.6356 - val_acc: 0.2640\n",
      "Epoch 5/120\n",
      "7000/7000 [==============================] - 0s 43us/step - loss: 13.3415 - acc: 0.2453 - val_loss: 12.9955 - val_acc: 0.2710\n",
      "Epoch 6/120\n",
      "7000/7000 [==============================] - 0s 38us/step - loss: 12.7098 - acc: 0.2553 - val_loss: 12.3733 - val_acc: 0.2820\n",
      "Epoch 7/120\n",
      "7000/7000 [==============================] - 0s 39us/step - loss: 12.0954 - acc: 0.2679 - val_loss: 11.7683 - val_acc: 0.2880\n",
      "Epoch 8/120\n",
      "7000/7000 [==============================] - 0s 37us/step - loss: 11.4990 - acc: 0.2790 - val_loss: 11.1820 - val_acc: 0.3070\n",
      "Epoch 9/120\n",
      "7000/7000 [==============================] - 0s 40us/step - loss: 10.9202 - acc: 0.2909 - val_loss: 10.6146 - val_acc: 0.3260\n",
      "Epoch 10/120\n",
      "7000/7000 [==============================] - 0s 41us/step - loss: 10.3596 - acc: 0.3054 - val_loss: 10.0653 - val_acc: 0.3520\n",
      "Epoch 11/120\n",
      "7000/7000 [==============================] - 0s 40us/step - loss: 9.8158 - acc: 0.3314 - val_loss: 9.5296 - val_acc: 0.3520\n",
      "Epoch 12/120\n",
      "7000/7000 [==============================] - 0s 48us/step - loss: 9.2895 - acc: 0.3353 - val_loss: 9.0160 - val_acc: 0.3830\n",
      "Epoch 13/120\n",
      "7000/7000 [==============================] - 0s 51us/step - loss: 8.7817 - acc: 0.3650 - val_loss: 8.5186 - val_acc: 0.3870\n",
      "Epoch 14/120\n",
      "7000/7000 [==============================] - 0s 40us/step - loss: 8.2926 - acc: 0.3801 - val_loss: 8.0405 - val_acc: 0.4160\n",
      "Epoch 15/120\n",
      "7000/7000 [==============================] - 0s 44us/step - loss: 7.8220 - acc: 0.4129 - val_loss: 7.5804 - val_acc: 0.4350\n",
      "Epoch 16/120\n",
      "7000/7000 [==============================] - 0s 41us/step - loss: 7.3696 - acc: 0.4307 - val_loss: 7.1401 - val_acc: 0.4660\n",
      "Epoch 17/120\n",
      "7000/7000 [==============================] - 0s 43us/step - loss: 6.9361 - acc: 0.4601 - val_loss: 6.7171 - val_acc: 0.4850\n",
      "Epoch 18/120\n",
      "7000/7000 [==============================] - 0s 42us/step - loss: 6.5211 - acc: 0.4859 - val_loss: 6.3129 - val_acc: 0.4950\n",
      "Epoch 19/120\n",
      "7000/7000 [==============================] - 0s 43us/step - loss: 6.1250 - acc: 0.5049 - val_loss: 5.9277 - val_acc: 0.5130\n",
      "Epoch 20/120\n",
      "7000/7000 [==============================] - 0s 41us/step - loss: 5.7467 - acc: 0.5210 - val_loss: 5.5608 - val_acc: 0.5450\n",
      "Epoch 21/120\n",
      "7000/7000 [==============================] - 0s 47us/step - loss: 5.3867 - acc: 0.5413 - val_loss: 5.2167 - val_acc: 0.5660\n",
      "Epoch 22/120\n",
      "7000/7000 [==============================] - 0s 54us/step - loss: 5.0462 - acc: 0.5633 - val_loss: 4.8846 - val_acc: 0.5750\n",
      "Epoch 23/120\n",
      "7000/7000 [==============================] - 0s 42us/step - loss: 4.7252 - acc: 0.5774 - val_loss: 4.5730 - val_acc: 0.5740\n",
      "Epoch 24/120\n",
      "7000/7000 [==============================] - 0s 41us/step - loss: 4.4238 - acc: 0.5820 - val_loss: 4.2837 - val_acc: 0.5860\n",
      "Epoch 25/120\n",
      "7000/7000 [==============================] - 0s 41us/step - loss: 4.1411 - acc: 0.5973 - val_loss: 4.0135 - val_acc: 0.5960\n",
      "Epoch 26/120\n",
      "7000/7000 [==============================] - 0s 39us/step - loss: 3.8776 - acc: 0.6071 - val_loss: 3.7595 - val_acc: 0.5940\n",
      "Epoch 27/120\n",
      "7000/7000 [==============================] - 0s 41us/step - loss: 3.6340 - acc: 0.6106 - val_loss: 3.5274 - val_acc: 0.6040\n",
      "Epoch 28/120\n",
      "7000/7000 [==============================] - 0s 48us/step - loss: 3.4090 - acc: 0.6211 - val_loss: 3.3111 - val_acc: 0.6030\n",
      "Epoch 29/120\n",
      "7000/7000 [==============================] - 0s 53us/step - loss: 3.2031 - acc: 0.6219 - val_loss: 3.1142 - val_acc: 0.6060\n",
      "Epoch 30/120\n",
      "7000/7000 [==============================] - 0s 42us/step - loss: 3.0152 - acc: 0.6311 - val_loss: 2.9392 - val_acc: 0.6180\n",
      "Epoch 31/120\n",
      "7000/7000 [==============================] - 0s 45us/step - loss: 2.8466 - acc: 0.6366 - val_loss: 2.7820 - val_acc: 0.6280\n",
      "Epoch 32/120\n",
      "7000/7000 [==============================] - 0s 54us/step - loss: 2.6967 - acc: 0.6397 - val_loss: 2.6390 - val_acc: 0.6340\n",
      "Epoch 33/120\n",
      "7000/7000 [==============================] - 0s 59us/step - loss: 2.5657 - acc: 0.6451 - val_loss: 2.5192 - val_acc: 0.6300\n",
      "Epoch 34/120\n",
      "7000/7000 [==============================] - 0s 41us/step - loss: 2.4517 - acc: 0.6481 - val_loss: 2.4148 - val_acc: 0.6290\n",
      "Epoch 35/120\n",
      "7000/7000 [==============================] - 0s 45us/step - loss: 2.3554 - acc: 0.6499 - val_loss: 2.3255 - val_acc: 0.6340\n",
      "Epoch 36/120\n",
      "7000/7000 [==============================] - 0s 43us/step - loss: 2.2759 - acc: 0.6546 - val_loss: 2.2561 - val_acc: 0.6450\n",
      "Epoch 37/120\n",
      "7000/7000 [==============================] - 0s 43us/step - loss: 2.2107 - acc: 0.6560 - val_loss: 2.1981 - val_acc: 0.6410\n",
      "Epoch 38/120\n",
      "7000/7000 [==============================] - 0s 43us/step - loss: 2.1607 - acc: 0.6610 - val_loss: 2.1535 - val_acc: 0.6460\n",
      "Epoch 39/120\n",
      "7000/7000 [==============================] - 0s 48us/step - loss: 2.1234 - acc: 0.6609 - val_loss: 2.1208 - val_acc: 0.6450\n",
      "Epoch 40/120\n",
      "7000/7000 [==============================] - 0s 36us/step - loss: 2.0937 - acc: 0.6634 - val_loss: 2.0946 - val_acc: 0.6510\n",
      "Epoch 41/120\n",
      "7000/7000 [==============================] - 0s 40us/step - loss: 2.0678 - acc: 0.6669 - val_loss: 2.0711 - val_acc: 0.6440\n",
      "Epoch 42/120\n",
      "7000/7000 [==============================] - 0s 41us/step - loss: 2.0454 - acc: 0.6699 - val_loss: 2.0479 - val_acc: 0.6490\n",
      "Epoch 43/120\n",
      "7000/7000 [==============================] - 0s 49us/step - loss: 2.0237 - acc: 0.6687 - val_loss: 2.0315 - val_acc: 0.6540\n",
      "Epoch 44/120\n",
      "7000/7000 [==============================] - 0s 61us/step - loss: 2.0037 - acc: 0.6714 - val_loss: 2.0090 - val_acc: 0.6560\n",
      "Epoch 45/120\n",
      "7000/7000 [==============================] - 0s 40us/step - loss: 1.9849 - acc: 0.6754 - val_loss: 1.9902 - val_acc: 0.6520\n",
      "Epoch 46/120\n",
      "7000/7000 [==============================] - 0s 52us/step - loss: 1.9670 - acc: 0.6771 - val_loss: 1.9763 - val_acc: 0.6590\n",
      "Epoch 47/120\n",
      "7000/7000 [==============================] - 0s 52us/step - loss: 1.9491 - acc: 0.6797 - val_loss: 1.9554 - val_acc: 0.6600\n",
      "Epoch 48/120\n",
      "7000/7000 [==============================] - 0s 41us/step - loss: 1.9327 - acc: 0.6817 - val_loss: 1.9428 - val_acc: 0.6630\n",
      "Epoch 49/120\n",
      "7000/7000 [==============================] - 0s 44us/step - loss: 1.9169 - acc: 0.6836 - val_loss: 1.9240 - val_acc: 0.6630\n",
      "Epoch 50/120\n",
      "7000/7000 [==============================] - 0s 50us/step - loss: 1.9012 - acc: 0.6869 - val_loss: 1.9117 - val_acc: 0.6620\n",
      "Epoch 51/120\n",
      "7000/7000 [==============================] - 0s 46us/step - loss: 1.8864 - acc: 0.6859 - val_loss: 1.8962 - val_acc: 0.6630\n",
      "Epoch 52/120\n",
      "7000/7000 [==============================] - 0s 53us/step - loss: 1.8719 - acc: 0.6870 - val_loss: 1.8827 - val_acc: 0.6640\n",
      "Epoch 53/120\n",
      "7000/7000 [==============================] - 0s 41us/step - loss: 1.8582 - acc: 0.6873 - val_loss: 1.8698 - val_acc: 0.6630\n",
      "Epoch 54/120\n",
      "7000/7000 [==============================] - 0s 40us/step - loss: 1.8451 - acc: 0.6886 - val_loss: 1.8571 - val_acc: 0.6710\n",
      "Epoch 55/120\n",
      "7000/7000 [==============================] - 0s 43us/step - loss: 1.8320 - acc: 0.6901 - val_loss: 1.8495 - val_acc: 0.6670\n",
      "Epoch 56/120\n",
      "7000/7000 [==============================] - 0s 40us/step - loss: 1.8194 - acc: 0.6909 - val_loss: 1.8349 - val_acc: 0.6690\n",
      "Epoch 57/120\n",
      "7000/7000 [==============================] - 0s 42us/step - loss: 1.8076 - acc: 0.6909 - val_loss: 1.8303 - val_acc: 0.6710\n",
      "Epoch 58/120\n",
      "7000/7000 [==============================] - 0s 40us/step - loss: 1.7956 - acc: 0.6923 - val_loss: 1.8099 - val_acc: 0.6750\n",
      "Epoch 59/120\n",
      "7000/7000 [==============================] - 0s 40us/step - loss: 1.7842 - acc: 0.6936 - val_loss: 1.7967 - val_acc: 0.6730\n",
      "Epoch 60/120\n"
     ]
    },
    {
     "name": "stdout",
     "output_type": "stream",
     "text": [
      "7000/7000 [==============================] - 0s 37us/step - loss: 1.7727 - acc: 0.6944 - val_loss: 1.7897 - val_acc: 0.6750\n",
      "Epoch 61/120\n",
      "7000/7000 [==============================] - 0s 43us/step - loss: 1.7623 - acc: 0.6940 - val_loss: 1.7816 - val_acc: 0.6760\n",
      "Epoch 62/120\n",
      "7000/7000 [==============================] - 0s 43us/step - loss: 1.7516 - acc: 0.6957 - val_loss: 1.7654 - val_acc: 0.6750\n",
      "Epoch 63/120\n",
      "7000/7000 [==============================] - 0s 59us/step - loss: 1.7407 - acc: 0.6966 - val_loss: 1.7603 - val_acc: 0.6740\n",
      "Epoch 64/120\n",
      "7000/7000 [==============================] - 0s 52us/step - loss: 1.7310 - acc: 0.6949 - val_loss: 1.7485 - val_acc: 0.6800\n",
      "Epoch 65/120\n",
      "7000/7000 [==============================] - 0s 46us/step - loss: 1.7210 - acc: 0.6960 - val_loss: 1.7384 - val_acc: 0.6780\n",
      "Epoch 66/120\n",
      "7000/7000 [==============================] - 0s 41us/step - loss: 1.7111 - acc: 0.6994 - val_loss: 1.7263 - val_acc: 0.6680\n",
      "Epoch 67/120\n",
      "7000/7000 [==============================] - 0s 41us/step - loss: 1.7021 - acc: 0.6990 - val_loss: 1.7178 - val_acc: 0.6780\n",
      "Epoch 68/120\n",
      "7000/7000 [==============================] - 0s 44us/step - loss: 1.6926 - acc: 0.7000 - val_loss: 1.7239 - val_acc: 0.6780\n",
      "Epoch 69/120\n",
      "7000/7000 [==============================] - 0s 40us/step - loss: 1.6839 - acc: 0.6994 - val_loss: 1.7009 - val_acc: 0.6770\n",
      "Epoch 70/120\n",
      "7000/7000 [==============================] - 0s 47us/step - loss: 1.6747 - acc: 0.6999 - val_loss: 1.6946 - val_acc: 0.6750\n",
      "Epoch 71/120\n",
      "7000/7000 [==============================] - 0s 41us/step - loss: 1.6657 - acc: 0.7020 - val_loss: 1.6813 - val_acc: 0.6710\n",
      "Epoch 72/120\n",
      "7000/7000 [==============================] - 0s 40us/step - loss: 1.6571 - acc: 0.7024 - val_loss: 1.6756 - val_acc: 0.6810\n",
      "Epoch 73/120\n",
      "7000/7000 [==============================] - 0s 44us/step - loss: 1.6484 - acc: 0.7014 - val_loss: 1.6674 - val_acc: 0.6800\n",
      "Epoch 74/120\n",
      "7000/7000 [==============================] - 0s 53us/step - loss: 1.6397 - acc: 0.7036 - val_loss: 1.6596 - val_acc: 0.6790\n",
      "Epoch 75/120\n",
      "7000/7000 [==============================] - 0s 42us/step - loss: 1.6317 - acc: 0.7037 - val_loss: 1.6503 - val_acc: 0.6820\n",
      "Epoch 76/120\n",
      "7000/7000 [==============================] - 0s 42us/step - loss: 1.6230 - acc: 0.7044 - val_loss: 1.6440 - val_acc: 0.6790\n",
      "Epoch 77/120\n",
      "7000/7000 [==============================] - 0s 40us/step - loss: 1.6153 - acc: 0.7044 - val_loss: 1.6363 - val_acc: 0.6810\n",
      "Epoch 78/120\n",
      "7000/7000 [==============================] - 0s 61us/step - loss: 1.6078 - acc: 0.7057 - val_loss: 1.6308 - val_acc: 0.6810\n",
      "Epoch 79/120\n",
      "7000/7000 [==============================] - 0s 40us/step - loss: 1.5997 - acc: 0.7067 - val_loss: 1.6203 - val_acc: 0.6810\n",
      "Epoch 80/120\n",
      "7000/7000 [==============================] - 0s 37us/step - loss: 1.5921 - acc: 0.7053 - val_loss: 1.6132 - val_acc: 0.6850\n",
      "Epoch 81/120\n",
      "7000/7000 [==============================] - 0s 40us/step - loss: 1.5852 - acc: 0.7070 - val_loss: 1.6047 - val_acc: 0.6830\n",
      "Epoch 82/120\n",
      "7000/7000 [==============================] - 0s 49us/step - loss: 1.5773 - acc: 0.7083 - val_loss: 1.5968 - val_acc: 0.6830\n",
      "Epoch 83/120\n",
      "7000/7000 [==============================] - 0s 45us/step - loss: 1.5697 - acc: 0.7096 - val_loss: 1.5897 - val_acc: 0.6810\n",
      "Epoch 84/120\n",
      "7000/7000 [==============================] - 0s 39us/step - loss: 1.5624 - acc: 0.7096 - val_loss: 1.5835 - val_acc: 0.6810\n",
      "Epoch 85/120\n",
      "7000/7000 [==============================] - 0s 42us/step - loss: 1.5551 - acc: 0.7086 - val_loss: 1.5839 - val_acc: 0.6850\n",
      "Epoch 86/120\n",
      "7000/7000 [==============================] - 0s 39us/step - loss: 1.5485 - acc: 0.7121 - val_loss: 1.5713 - val_acc: 0.6860\n",
      "Epoch 87/120\n",
      "7000/7000 [==============================] - 0s 41us/step - loss: 1.5411 - acc: 0.7109 - val_loss: 1.5718 - val_acc: 0.6850\n",
      "Epoch 88/120\n",
      "7000/7000 [==============================] - 0s 39us/step - loss: 1.5344 - acc: 0.7110 - val_loss: 1.5566 - val_acc: 0.6780\n",
      "Epoch 89/120\n",
      "7000/7000 [==============================] - 0s 39us/step - loss: 1.5278 - acc: 0.7099 - val_loss: 1.5590 - val_acc: 0.6840\n",
      "Epoch 90/120\n",
      "7000/7000 [==============================] - 0s 38us/step - loss: 1.5213 - acc: 0.7094 - val_loss: 1.5421 - val_acc: 0.6870\n",
      "Epoch 91/120\n",
      "7000/7000 [==============================] - 0s 39us/step - loss: 1.5142 - acc: 0.7119 - val_loss: 1.5438 - val_acc: 0.6830\n",
      "Epoch 92/120\n",
      "7000/7000 [==============================] - 0s 41us/step - loss: 1.5072 - acc: 0.7121 - val_loss: 1.5272 - val_acc: 0.6840\n",
      "Epoch 93/120\n",
      "7000/7000 [==============================] - 0s 42us/step - loss: 1.5009 - acc: 0.7143 - val_loss: 1.5243 - val_acc: 0.6820\n",
      "Epoch 94/120\n",
      "7000/7000 [==============================] - 0s 39us/step - loss: 1.4948 - acc: 0.7130 - val_loss: 1.5188 - val_acc: 0.6870\n",
      "Epoch 95/120\n",
      "7000/7000 [==============================] - 0s 41us/step - loss: 1.4881 - acc: 0.7136 - val_loss: 1.5117 - val_acc: 0.6850\n",
      "Epoch 96/120\n",
      "7000/7000 [==============================] - 0s 70us/step - loss: 1.4813 - acc: 0.7146 - val_loss: 1.5100 - val_acc: 0.6850\n",
      "Epoch 97/120\n",
      "7000/7000 [==============================] - 0s 48us/step - loss: 1.4757 - acc: 0.7149 - val_loss: 1.4991 - val_acc: 0.6850\n",
      "Epoch 98/120\n",
      "7000/7000 [==============================] - 0s 39us/step - loss: 1.4694 - acc: 0.7149 - val_loss: 1.4932 - val_acc: 0.6870\n",
      "Epoch 99/120\n",
      "7000/7000 [==============================] - 0s 43us/step - loss: 1.4632 - acc: 0.7154 - val_loss: 1.4868 - val_acc: 0.6900\n",
      "Epoch 100/120\n",
      "7000/7000 [==============================] - 0s 42us/step - loss: 1.4570 - acc: 0.7160 - val_loss: 1.4891 - val_acc: 0.6880\n",
      "Epoch 101/120\n",
      "7000/7000 [==============================] - 0s 41us/step - loss: 1.4515 - acc: 0.7149 - val_loss: 1.4900 - val_acc: 0.6890\n",
      "Epoch 102/120\n",
      "7000/7000 [==============================] - 0s 40us/step - loss: 1.4464 - acc: 0.7151 - val_loss: 1.4718 - val_acc: 0.6900\n",
      "Epoch 103/120\n",
      "7000/7000 [==============================] - 0s 42us/step - loss: 1.4392 - acc: 0.7160 - val_loss: 1.4696 - val_acc: 0.6940\n",
      "Epoch 104/120\n",
      "7000/7000 [==============================] - 0s 41us/step - loss: 1.4338 - acc: 0.7181 - val_loss: 1.4658 - val_acc: 0.6950\n",
      "Epoch 105/120\n",
      "7000/7000 [==============================] - 0s 42us/step - loss: 1.4286 - acc: 0.7167 - val_loss: 1.4567 - val_acc: 0.6920\n",
      "Epoch 106/120\n",
      "7000/7000 [==============================] - 0s 40us/step - loss: 1.4222 - acc: 0.7164 - val_loss: 1.4528 - val_acc: 0.6870\n",
      "Epoch 107/120\n",
      "7000/7000 [==============================] - 0s 48us/step - loss: 1.4170 - acc: 0.7177 - val_loss: 1.4445 - val_acc: 0.6950\n",
      "Epoch 108/120\n",
      "7000/7000 [==============================] - 0s 54us/step - loss: 1.4119 - acc: 0.7184 - val_loss: 1.4494 - val_acc: 0.6940\n",
      "Epoch 109/120\n",
      "7000/7000 [==============================] - 0s 41us/step - loss: 1.4061 - acc: 0.7187 - val_loss: 1.4374 - val_acc: 0.6910\n",
      "Epoch 110/120\n",
      "7000/7000 [==============================] - 0s 37us/step - loss: 1.4008 - acc: 0.7167 - val_loss: 1.4315 - val_acc: 0.7010\n",
      "Epoch 111/120\n",
      "7000/7000 [==============================] - 0s 41us/step - loss: 1.3953 - acc: 0.7207 - val_loss: 1.4339 - val_acc: 0.6930\n",
      "Epoch 112/120\n",
      "7000/7000 [==============================] - 0s 55us/step - loss: 1.3909 - acc: 0.7197 - val_loss: 1.4177 - val_acc: 0.6930\n",
      "Epoch 113/120\n",
      "7000/7000 [==============================] - 0s 40us/step - loss: 1.3848 - acc: 0.7207 - val_loss: 1.4181 - val_acc: 0.6950\n",
      "Epoch 114/120\n",
      "7000/7000 [==============================] - 0s 40us/step - loss: 1.3794 - acc: 0.7217 - val_loss: 1.4097 - val_acc: 0.7000\n",
      "Epoch 115/120\n",
      "7000/7000 [==============================] - 0s 37us/step - loss: 1.3744 - acc: 0.7216 - val_loss: 1.4088 - val_acc: 0.6940\n",
      "Epoch 116/120\n",
      "7000/7000 [==============================] - 0s 45us/step - loss: 1.3698 - acc: 0.7213 - val_loss: 1.3994 - val_acc: 0.6950\n",
      "Epoch 117/120\n",
      "7000/7000 [==============================] - 0s 54us/step - loss: 1.3649 - acc: 0.7210 - val_loss: 1.3984 - val_acc: 0.6970\n",
      "Epoch 118/120\n",
      "7000/7000 [==============================] - 0s 40us/step - loss: 1.3595 - acc: 0.7217 - val_loss: 1.3860 - val_acc: 0.6940\n",
      "Epoch 119/120\n",
      "7000/7000 [==============================] - 0s 41us/step - loss: 1.3547 - acc: 0.7224 - val_loss: 1.3863 - val_acc: 0.6960\n"
     ]
    },
    {
     "name": "stdout",
     "output_type": "stream",
     "text": [
      "Epoch 120/120\n",
      "7000/7000 [==============================] - 0s 39us/step - loss: 1.3493 - acc: 0.7217 - val_loss: 1.3814 - val_acc: 0.6970\n"
     ]
    }
   ],
   "source": [
    "np.random.seed(123)\n",
    "model = models.Sequential()\n",
    "model.add(layers.Dense(50, activation='relu',kernel_regularizer=regularizers.l1(0.005), input_shape=(2000,))) #2 hidden layers\n",
    "model.add(layers.Dense(25, kernel_regularizer=regularizers.l1(0.005), activation='relu'))\n",
    "model.add(layers.Dense(7, activation='softmax'))\n",
    "\n",
    "model.compile(optimizer='SGD',\n",
    "              loss='categorical_crossentropy',\n",
    "              metrics=['accuracy'])\n",
    "\n",
    "L1_model = model.fit(train_final,\n",
    "                    label_train_final,\n",
    "                    epochs=120,\n",
    "                    batch_size=256,\n",
    "                    validation_data=(val, label_val))"
   ]
  },
  {
   "cell_type": "code",
   "execution_count": 54,
   "metadata": {},
   "outputs": [
    {
     "data": {
      "image/png": "[encoded data removed]",
      "text/plain": [
       "<Figure size 432x288 with 1 Axes>"
      ]
     },
     "metadata": {
      "needs_background": "light"
     },
     "output_type": "display_data"
    }
   ],
   "source": [
    "L1_model_dict = L1_model.history\n",
    "plt.clf()\n",
    "\n",
    "acc_values = L1_model_dict['acc'] \n",
    "val_acc_values = L1_model_dict['val_acc']\n",
    "\n",
    "epochs = range(1, len(acc_values) + 1)\n",
    "plt.plot(epochs, acc_values, 'g', label='Training acc L1')\n",
    "plt.plot(epochs, val_acc_values, 'g.', label='Validation acc L1')\n",
    "plt.title('Training & validation accuracy with L1 regularization')\n",
    "plt.xlabel('Epochs')\n",
    "plt.ylabel('Loss')\n",
    "plt.legend()\n",
    "plt.show()"
   ]
  },
  {
   "cell_type": "markdown",
   "metadata": {},
   "source": [
    "Notice how the training and validation accuracy don't diverge as much as before. Unfortunately, the validation accuracy doesn't reach rates much higher than 70%. It does seem like you can still improve the model by training much longer."
   ]
  },
  {
   "cell_type": "code",
   "execution_count": null,
   "metadata": {},
   "outputs": [
    {
     "name": "stdout",
     "output_type": "stream",
     "text": [
      "Train on 7000 samples, validate on 1000 samples\n",
      "Epoch 1/1000\n",
      "7000/7000 [==============================] - 1s 90us/step - loss: 16.0684 - acc: 0.1584 - val_loss: 15.6604 - val_acc: 0.1980\n",
      "Epoch 2/1000\n",
      "7000/7000 [==============================] - 0s 32us/step - loss: 15.3470 - acc: 0.1844 - val_loss: 14.9664 - val_acc: 0.2260\n",
      "Epoch 3/1000\n",
      "7000/7000 [==============================] - 0s 37us/step - loss: 14.6584 - acc: 0.2073 - val_loss: 14.2921 - val_acc: 0.2470\n",
      "Epoch 4/1000\n",
      "7000/7000 [==============================] - 0s 36us/step - loss: 13.9905 - acc: 0.2246 - val_loss: 13.6356 - val_acc: 0.2640\n",
      "Epoch 5/1000\n",
      "7000/7000 [==============================] - 0s 36us/step - loss: 13.3415 - acc: 0.2451 - val_loss: 12.9956 - val_acc: 0.2710\n",
      "Epoch 6/1000\n",
      "7000/7000 [==============================] - 0s 36us/step - loss: 12.7098 - acc: 0.2551 - val_loss: 12.3733 - val_acc: 0.2820\n",
      "Epoch 7/1000\n",
      "7000/7000 [==============================] - 0s 34us/step - loss: 12.0955 - acc: 0.2681 - val_loss: 11.7683 - val_acc: 0.2890\n",
      "Epoch 8/1000\n",
      "7000/7000 [==============================] - 0s 33us/step - loss: 11.4990 - acc: 0.2793 - val_loss: 11.1820 - val_acc: 0.3070\n",
      "Epoch 9/1000\n",
      "7000/7000 [==============================] - 0s 36us/step - loss: 10.9203 - acc: 0.2909 - val_loss: 10.6146 - val_acc: 0.3270\n",
      "Epoch 10/1000\n",
      "7000/7000 [==============================] - 0s 34us/step - loss: 10.3597 - acc: 0.3053 - val_loss: 10.0654 - val_acc: 0.3520\n",
      "Epoch 11/1000\n",
      "7000/7000 [==============================] - 0s 37us/step - loss: 9.8159 - acc: 0.3313 - val_loss: 9.5296 - val_acc: 0.3520\n",
      "Epoch 12/1000\n",
      "7000/7000 [==============================] - 0s 33us/step - loss: 9.2896 - acc: 0.3347 - val_loss: 9.0160 - val_acc: 0.3830\n",
      "Epoch 13/1000\n",
      "7000/7000 [==============================] - 0s 42us/step - loss: 8.7818 - acc: 0.3651 - val_loss: 8.5186 - val_acc: 0.3860\n",
      "Epoch 14/1000\n",
      "7000/7000 [==============================] - 0s 50us/step - loss: 8.2927 - acc: 0.3800 - val_loss: 8.0405 - val_acc: 0.4150\n",
      "Epoch 15/1000\n",
      "7000/7000 [==============================] - 0s 36us/step - loss: 7.8221 - acc: 0.4124 - val_loss: 7.5805 - val_acc: 0.4360\n",
      "Epoch 16/1000\n",
      "7000/7000 [==============================] - 0s 36us/step - loss: 7.3697 - acc: 0.4304 - val_loss: 7.1401 - val_acc: 0.4660\n",
      "Epoch 17/1000\n",
      "7000/7000 [==============================] - 0s 33us/step - loss: 6.9362 - acc: 0.4600 - val_loss: 6.7172 - val_acc: 0.4850\n",
      "Epoch 18/1000\n",
      "7000/7000 [==============================] - 0s 44us/step - loss: 6.5212 - acc: 0.4854 - val_loss: 6.3130 - val_acc: 0.4940\n",
      "Epoch 19/1000\n",
      "7000/7000 [==============================] - 0s 52us/step - loss: 6.1251 - acc: 0.5047 - val_loss: 5.9278 - val_acc: 0.5140\n",
      "Epoch 20/1000\n",
      "7000/7000 [==============================] - 0s 32us/step - loss: 5.7467 - acc: 0.5214 - val_loss: 5.5608 - val_acc: 0.5440\n",
      "Epoch 21/1000\n",
      "7000/7000 [==============================] - 0s 39us/step - loss: 5.3867 - acc: 0.5413 - val_loss: 5.2167 - val_acc: 0.5660\n",
      "Epoch 22/1000\n",
      "7000/7000 [==============================] - 0s 34us/step - loss: 5.0462 - acc: 0.5634 - val_loss: 4.8846 - val_acc: 0.5750\n",
      "Epoch 23/1000\n",
      "7000/7000 [==============================] - 0s 40us/step - loss: 4.7252 - acc: 0.5773 - val_loss: 4.5731 - val_acc: 0.5740\n",
      "Epoch 24/1000\n",
      "7000/7000 [==============================] - 0s 52us/step - loss: 4.4239 - acc: 0.5824 - val_loss: 4.2837 - val_acc: 0.5870\n",
      "Epoch 25/1000\n",
      "7000/7000 [==============================] - 0s 34us/step - loss: 4.1411 - acc: 0.5970 - val_loss: 4.0135 - val_acc: 0.5970\n",
      "Epoch 26/1000\n",
      "7000/7000 [==============================] - 0s 37us/step - loss: 3.8777 - acc: 0.6069 - val_loss: 3.7595 - val_acc: 0.5940\n",
      "Epoch 27/1000\n",
      "7000/7000 [==============================] - 0s 35us/step - loss: 3.6340 - acc: 0.6101 - val_loss: 3.5275 - val_acc: 0.6040\n",
      "Epoch 28/1000\n",
      "7000/7000 [==============================] - 0s 38us/step - loss: 3.4091 - acc: 0.6210 - val_loss: 3.3111 - val_acc: 0.6030\n",
      "Epoch 29/1000\n",
      "7000/7000 [==============================] - 0s 37us/step - loss: 3.2031 - acc: 0.6221 - val_loss: 3.1143 - val_acc: 0.6060\n",
      "Epoch 30/1000\n",
      "7000/7000 [==============================] - 0s 39us/step - loss: 3.0152 - acc: 0.6313 - val_loss: 2.9392 - val_acc: 0.6180\n",
      "Epoch 31/1000\n",
      "7000/7000 [==============================] - 0s 34us/step - loss: 2.8466 - acc: 0.6366 - val_loss: 2.7821 - val_acc: 0.6280\n",
      "Epoch 32/1000\n",
      "7000/7000 [==============================] - 0s 37us/step - loss: 2.6967 - acc: 0.6397 - val_loss: 2.6390 - val_acc: 0.6340\n",
      "Epoch 33/1000\n",
      "7000/7000 [==============================] - 0s 37us/step - loss: 2.5657 - acc: 0.6451 - val_loss: 2.5192 - val_acc: 0.6280\n",
      "Epoch 34/1000\n",
      "7000/7000 [==============================] - 0s 36us/step - loss: 2.4518 - acc: 0.6480 - val_loss: 2.4149 - val_acc: 0.6290\n",
      "Epoch 35/1000\n",
      "7000/7000 [==============================] - 0s 36us/step - loss: 2.3555 - acc: 0.6497 - val_loss: 2.3255 - val_acc: 0.6340\n",
      "Epoch 36/1000\n",
      "7000/7000 [==============================] - 0s 35us/step - loss: 2.2760 - acc: 0.6546 - val_loss: 2.2562 - val_acc: 0.6460\n",
      "Epoch 37/1000\n",
      "1792/7000 [======>.......................] - ETA: 0s - loss: 2.2418 - acc: 0.6496"
     ]
    }
   ],
   "source": [
    "np.random.seed(123)\n",
    "model = models.Sequential()\n",
    "model.add(layers.Dense(50, activation='relu',kernel_regularizer=regularizers.l1(0.005), input_shape=(2000,))) #2 hidden layers\n",
    "model.add(layers.Dense(25, kernel_regularizer=regularizers.l1(0.005), activation='relu'))\n",
    "model.add(layers.Dense(7, activation='softmax'))\n",
    "\n",
    "model.compile(optimizer='SGD',\n",
    "              loss='categorical_crossentropy',\n",
    "              metrics=['accuracy'])\n",
    "\n",
    "L1_model = model.fit(train_final,\n",
    "                    label_train_final,\n",
    "                    epochs=1000,\n",
    "                    batch_size=256,\n",
    "                    validation_data=(val, label_val))"
   ]
  },
  {
   "cell_type": "code",
   "execution_count": 33,
   "metadata": {},
   "outputs": [
    {
     "data": {
      "image/png": "[encoded data removed]",
      "text/plain": [
       "<Figure size 432x288 with 1 Axes>"
      ]
     },
     "metadata": {},
     "output_type": "display_data"
    }
   ],
   "source": [
    "L1_model_dict = L1_model.history\n",
    "plt.clf()\n",
    "\n",
    "acc_values = L1_model_dict['acc'] \n",
    "val_acc_values = L1_model_dict['val_acc']\n",
    "\n",
    "epochs = range(1, len(acc_values) + 1)\n",
    "plt.plot(epochs, acc_values, 'g', label='Training acc L1')\n",
    "plt.plot(epochs, val_acc_values, 'g,', label='Validation acc L1')\n",
    "plt.title('Training & validation accuracy L2 vs regular')\n",
    "plt.xlabel('Epochs')\n",
    "plt.ylabel('Loss')\n",
    "plt.legend()\n",
    "plt.show()"
   ]
  },
  {
   "cell_type": "code",
   "execution_count": 35,
   "metadata": {},
   "outputs": [
    {
     "name": "stdout",
     "output_type": "stream",
     "text": [
      "7500/7500 [==============================] - 0s 24us/step\n",
      "1500/1500 [==============================] - 0s 26us/step\n"
     ]
    }
   ],
   "source": [
    "results_train = model.evaluate(train_final, label_train_final)\n",
    "\n",
    "results_test = model.evaluate(X_test, y_test)"
   ]
  },
  {
   "cell_type": "code",
   "execution_count": 36,
   "metadata": {},
   "outputs": [
    {
     "data": {
      "text/plain": [
       "[0.8237653533299764, 0.7967999999682108]"
      ]
     },
     "execution_count": 36,
     "metadata": {},
     "output_type": "execute_result"
    }
   ],
   "source": [
    "results_train"
   ]
  },
  {
   "cell_type": "code",
   "execution_count": 37,
   "metadata": {},
   "outputs": [
    {
     "data": {
      "text/plain": [
       "[0.966706668694814, 0.7499999998410543]"
      ]
     },
     "execution_count": 37,
     "metadata": {},
     "output_type": "execute_result"
    }
   ],
   "source": [
    "results_test"
   ]
  },
  {
   "cell_type": "markdown",
   "metadata": {},
   "source": [
    "This is about the best result you've achieved so far, but you were training for quite a while! Next, experiment with dropout regularization to see if it offers any advantages."
   ]
  },
  {
   "cell_type": "markdown",
   "metadata": {},
   "source": [
    "## Dropout Regularization"
   ]
  },
  {
   "cell_type": "code",
   "execution_count": 38,
   "metadata": {},
   "outputs": [
    {
     "name": "stdout",
     "output_type": "stream",
     "text": [
      "Train on 7500 samples, validate on 1000 samples\n",
      "Epoch 1/200\n",
      "7500/7500 [==============================] - 1s 71us/step - loss: 2.0228 - acc: 0.1372 - val_loss: 1.9610 - val_acc: 0.1380\n",
      "Epoch 2/200\n",
      "7500/7500 [==============================] - 0s 26us/step - loss: 1.9760 - acc: 0.1439 - val_loss: 1.9430 - val_acc: 0.1630\n",
      "Epoch 3/200\n",
      "7500/7500 [==============================] - 0s 27us/step - loss: 1.9560 - acc: 0.1548 - val_loss: 1.9328 - val_acc: 0.1790\n",
      "Epoch 4/200\n",
      "7500/7500 [==============================] - 0s 27us/step - loss: 1.9462 - acc: 0.1639 - val_loss: 1.9249 - val_acc: 0.1890\n",
      "Epoch 5/200\n",
      "7500/7500 [==============================] - 0s 27us/step - loss: 1.9412 - acc: 0.1661 - val_loss: 1.9189 - val_acc: 0.2040\n",
      "Epoch 6/200\n",
      "7500/7500 [==============================] - 0s 27us/step - loss: 1.9261 - acc: 0.1800 - val_loss: 1.9124 - val_acc: 0.2090\n",
      "Epoch 7/200\n",
      "7500/7500 [==============================] - 0s 26us/step - loss: 1.9231 - acc: 0.1896 - val_loss: 1.9062 - val_acc: 0.2310\n",
      "Epoch 8/200\n",
      "7500/7500 [==============================] - 0s 26us/step - loss: 1.9152 - acc: 0.1916 - val_loss: 1.8993 - val_acc: 0.2430\n",
      "Epoch 9/200\n",
      "7500/7500 [==============================] - 0s 27us/step - loss: 1.9105 - acc: 0.1981 - val_loss: 1.8928 - val_acc: 0.2540\n",
      "Epoch 10/200\n",
      "7500/7500 [==============================] - 0s 26us/step - loss: 1.9032 - acc: 0.2036 - val_loss: 1.8854 - val_acc: 0.2590\n",
      "Epoch 11/200\n",
      "7500/7500 [==============================] - 0s 26us/step - loss: 1.8927 - acc: 0.2129 - val_loss: 1.8773 - val_acc: 0.2640\n",
      "Epoch 12/200\n",
      "7500/7500 [==============================] - 0s 28us/step - loss: 1.8881 - acc: 0.2221 - val_loss: 1.8688 - val_acc: 0.2660\n",
      "Epoch 13/200\n",
      "7500/7500 [==============================] - 0s 26us/step - loss: 1.8835 - acc: 0.2249 - val_loss: 1.8599 - val_acc: 0.2720\n",
      "Epoch 14/200\n",
      "7500/7500 [==============================] - 0s 29us/step - loss: 1.8740 - acc: 0.2337 - val_loss: 1.8489 - val_acc: 0.2840\n",
      "Epoch 15/200\n",
      "7500/7500 [==============================] - 0s 27us/step - loss: 1.8637 - acc: 0.2427 - val_loss: 1.8371 - val_acc: 0.2930\n",
      "Epoch 16/200\n",
      "7500/7500 [==============================] - 0s 29us/step - loss: 1.8544 - acc: 0.2432 - val_loss: 1.8235 - val_acc: 0.3030\n",
      "Epoch 17/200\n",
      "7500/7500 [==============================] - 0s 26us/step - loss: 1.8401 - acc: 0.2505 - val_loss: 1.8080 - val_acc: 0.3100\n",
      "Epoch 18/200\n",
      "7500/7500 [==============================] - 0s 27us/step - loss: 1.8334 - acc: 0.2677 - val_loss: 1.7913 - val_acc: 0.3120\n",
      "Epoch 19/200\n",
      "7500/7500 [==============================] - 0s 27us/step - loss: 1.8201 - acc: 0.2657 - val_loss: 1.7722 - val_acc: 0.3190\n",
      "Epoch 20/200\n",
      "7500/7500 [==============================] - 0s 27us/step - loss: 1.8009 - acc: 0.2712 - val_loss: 1.7512 - val_acc: 0.3240\n",
      "Epoch 21/200\n",
      "7500/7500 [==============================] - 0s 27us/step - loss: 1.7911 - acc: 0.2812 - val_loss: 1.7285 - val_acc: 0.3310\n",
      "Epoch 22/200\n",
      "7500/7500 [==============================] - 0s 26us/step - loss: 1.7735 - acc: 0.2939 - val_loss: 1.7043 - val_acc: 0.3420\n",
      "Epoch 23/200\n",
      "7500/7500 [==============================] - 0s 27us/step - loss: 1.7500 - acc: 0.3079 - val_loss: 1.6776 - val_acc: 0.3510\n",
      "Epoch 24/200\n",
      "7500/7500 [==============================] - 0s 26us/step - loss: 1.7402 - acc: 0.3083 - val_loss: 1.6486 - val_acc: 0.3800\n",
      "Epoch 25/200\n",
      "7500/7500 [==============================] - 0s 27us/step - loss: 1.7199 - acc: 0.3201 - val_loss: 1.6207 - val_acc: 0.3930\n",
      "Epoch 26/200\n",
      "7500/7500 [==============================] - 0s 26us/step - loss: 1.6974 - acc: 0.3253 - val_loss: 1.5931 - val_acc: 0.4070\n",
      "Epoch 27/200\n",
      "7500/7500 [==============================] - 0s 26us/step - loss: 1.6781 - acc: 0.3377 - val_loss: 1.5651 - val_acc: 0.4270\n",
      "Epoch 28/200\n",
      "7500/7500 [==============================] - 0s 26us/step - loss: 1.6711 - acc: 0.3471 - val_loss: 1.5406 - val_acc: 0.4440\n",
      "Epoch 29/200\n",
      "7500/7500 [==============================] - 0s 28us/step - loss: 1.6474 - acc: 0.3469 - val_loss: 1.5145 - val_acc: 0.4510\n",
      "Epoch 30/200\n",
      "7500/7500 [==============================] - 0s 27us/step - loss: 1.6281 - acc: 0.3521 - val_loss: 1.4876 - val_acc: 0.4610\n",
      "Epoch 31/200\n",
      "7500/7500 [==============================] - 0s 27us/step - loss: 1.6150 - acc: 0.3639 - val_loss: 1.4634 - val_acc: 0.4750\n",
      "Epoch 32/200\n",
      "7500/7500 [==============================] - 0s 27us/step - loss: 1.5985 - acc: 0.3748 - val_loss: 1.4395 - val_acc: 0.4940\n",
      "Epoch 33/200\n",
      "7500/7500 [==============================] - 0s 27us/step - loss: 1.5763 - acc: 0.3808 - val_loss: 1.4134 - val_acc: 0.5050\n",
      "Epoch 34/200\n",
      "7500/7500 [==============================] - 0s 27us/step - loss: 1.5539 - acc: 0.3969 - val_loss: 1.3892 - val_acc: 0.5280\n",
      "Epoch 35/200\n",
      "7500/7500 [==============================] - 0s 27us/step - loss: 1.5548 - acc: 0.3883 - val_loss: 1.3709 - val_acc: 0.5280\n",
      "Epoch 36/200\n",
      "7500/7500 [==============================] - 0s 26us/step - loss: 1.5287 - acc: 0.4059 - val_loss: 1.3478 - val_acc: 0.5470\n",
      "Epoch 37/200\n",
      "7500/7500 [==============================] - 0s 26us/step - loss: 1.5163 - acc: 0.4099 - val_loss: 1.3288 - val_acc: 0.5560\n",
      "Epoch 38/200\n",
      "7500/7500 [==============================] - 0s 28us/step - loss: 1.5083 - acc: 0.4137 - val_loss: 1.3094 - val_acc: 0.5720\n",
      "Epoch 39/200\n",
      "7500/7500 [==============================] - 0s 27us/step - loss: 1.4847 - acc: 0.4319 - val_loss: 1.2877 - val_acc: 0.5770\n",
      "Epoch 40/200\n",
      "7500/7500 [==============================] - 0s 26us/step - loss: 1.4855 - acc: 0.4204 - val_loss: 1.2714 - val_acc: 0.5920\n",
      "Epoch 41/200\n",
      "7500/7500 [==============================] - 0s 26us/step - loss: 1.4642 - acc: 0.4336 - val_loss: 1.2518 - val_acc: 0.6070\n",
      "Epoch 42/200\n",
      "7500/7500 [==============================] - 0s 26us/step - loss: 1.4565 - acc: 0.4380 - val_loss: 1.2329 - val_acc: 0.6190\n",
      "Epoch 43/200\n",
      "7500/7500 [==============================] - 0s 27us/step - loss: 1.4303 - acc: 0.4479 - val_loss: 1.2134 - val_acc: 0.6380\n",
      "Epoch 44/200\n",
      "7500/7500 [==============================] - 0s 26us/step - loss: 1.4283 - acc: 0.4561 - val_loss: 1.1985 - val_acc: 0.6450\n",
      "Epoch 45/200\n",
      "7500/7500 [==============================] - 0s 26us/step - loss: 1.3998 - acc: 0.4632 - val_loss: 1.1791 - val_acc: 0.6420\n",
      "Epoch 46/200\n",
      "7500/7500 [==============================] - 0s 26us/step - loss: 1.3886 - acc: 0.4664 - val_loss: 1.1616 - val_acc: 0.6460\n",
      "Epoch 47/200\n",
      "7500/7500 [==============================] - 0s 27us/step - loss: 1.3729 - acc: 0.4784 - val_loss: 1.1441 - val_acc: 0.6540\n",
      "Epoch 48/200\n",
      "7500/7500 [==============================] - 0s 28us/step - loss: 1.3671 - acc: 0.4807 - val_loss: 1.1300 - val_acc: 0.6640\n",
      "Epoch 49/200\n",
      "7500/7500 [==============================] - 0s 26us/step - loss: 1.3640 - acc: 0.4808 - val_loss: 1.1187 - val_acc: 0.6570\n",
      "Epoch 50/200\n",
      "7500/7500 [==============================] - 0s 27us/step - loss: 1.3373 - acc: 0.4841 - val_loss: 1.0995 - val_acc: 0.6660\n",
      "Epoch 51/200\n",
      "7500/7500 [==============================] - 0s 28us/step - loss: 1.3246 - acc: 0.4999 - val_loss: 1.0832 - val_acc: 0.6730\n",
      "Epoch 52/200\n",
      "7500/7500 [==============================] - 0s 26us/step - loss: 1.3099 - acc: 0.5103 - val_loss: 1.0693 - val_acc: 0.6760\n",
      "Epoch 53/200\n",
      "7500/7500 [==============================] - 0s 27us/step - loss: 1.3033 - acc: 0.5064 - val_loss: 1.0562 - val_acc: 0.6850\n",
      "Epoch 54/200\n",
      "7500/7500 [==============================] - 0s 26us/step - loss: 1.2944 - acc: 0.5116 - val_loss: 1.0446 - val_acc: 0.6820\n",
      "Epoch 55/200\n",
      "7500/7500 [==============================] - 0s 26us/step - loss: 1.2866 - acc: 0.5151 - val_loss: 1.0344 - val_acc: 0.6850\n",
      "Epoch 56/200\n",
      "7500/7500 [==============================] - 0s 26us/step - loss: 1.2655 - acc: 0.5233 - val_loss: 1.0180 - val_acc: 0.6880\n",
      "Epoch 57/200\n",
      "7500/7500 [==============================] - 0s 26us/step - loss: 1.2563 - acc: 0.5239 - val_loss: 1.0041 - val_acc: 0.6920\n",
      "Epoch 58/200\n",
      "7500/7500 [==============================] - 0s 26us/step - loss: 1.2481 - acc: 0.5256 - val_loss: 0.9925 - val_acc: 0.6950\n",
      "Epoch 59/200\n",
      "7500/7500 [==============================] - 0s 26us/step - loss: 1.2476 - acc: 0.5280 - val_loss: 0.9800 - val_acc: 0.6940\n",
      "Epoch 60/200\n",
      "7500/7500 [==============================] - 0s 26us/step - loss: 1.2354 - acc: 0.5300 - val_loss: 0.9684 - val_acc: 0.7050\n",
      "Epoch 61/200\n",
      "7500/7500 [==============================] - 0s 25us/step - loss: 1.2150 - acc: 0.5400 - val_loss: 0.9589 - val_acc: 0.7120\n",
      "Epoch 62/200\n",
      "7500/7500 [==============================] - 0s 26us/step - loss: 1.2109 - acc: 0.5513 - val_loss: 0.9459 - val_acc: 0.7030\n",
      "Epoch 63/200\n",
      "7500/7500 [==============================] - 0s 29us/step - loss: 1.2099 - acc: 0.5472 - val_loss: 0.9360 - val_acc: 0.7070\n",
      "Epoch 64/200\n",
      "7500/7500 [==============================] - 0s 29us/step - loss: 1.1975 - acc: 0.5485 - val_loss: 0.9275 - val_acc: 0.7140\n",
      "Epoch 65/200\n",
      "7500/7500 [==============================] - 0s 28us/step - loss: 1.1849 - acc: 0.5585 - val_loss: 0.9184 - val_acc: 0.7120\n",
      "Epoch 66/200\n",
      "7500/7500 [==============================] - 0s 26us/step - loss: 1.1837 - acc: 0.5669 - val_loss: 0.9071 - val_acc: 0.7230\n",
      "Epoch 67/200\n",
      "7500/7500 [==============================] - 0s 26us/step - loss: 1.1751 - acc: 0.5639 - val_loss: 0.8986 - val_acc: 0.7200\n",
      "Epoch 68/200\n",
      "7500/7500 [==============================] - 0s 27us/step - loss: 1.1549 - acc: 0.5747 - val_loss: 0.8873 - val_acc: 0.7260\n",
      "Epoch 69/200\n",
      "7500/7500 [==============================] - 0s 26us/step - loss: 1.1635 - acc: 0.5651 - val_loss: 0.8807 - val_acc: 0.7260\n",
      "Epoch 70/200\n",
      "7500/7500 [==============================] - 0s 27us/step - loss: 1.1557 - acc: 0.5672 - val_loss: 0.8725 - val_acc: 0.7280\n",
      "Epoch 71/200\n",
      "7500/7500 [==============================] - 0s 25us/step - loss: 1.1337 - acc: 0.5803 - val_loss: 0.8605 - val_acc: 0.7310\n",
      "Epoch 72/200\n",
      "7500/7500 [==============================] - 0s 30us/step - loss: 1.1170 - acc: 0.5859 - val_loss: 0.8531 - val_acc: 0.7290\n",
      "Epoch 73/200\n",
      "7500/7500 [==============================] - 0s 32us/step - loss: 1.1179 - acc: 0.5797 - val_loss: 0.8437 - val_acc: 0.7330\n",
      "Epoch 74/200\n",
      "7500/7500 [==============================] - 0s 29us/step - loss: 1.1314 - acc: 0.5715 - val_loss: 0.8400 - val_acc: 0.7340\n",
      "Epoch 75/200\n",
      "7500/7500 [==============================] - 0s 32us/step - loss: 1.0935 - acc: 0.5948 - val_loss: 0.8310 - val_acc: 0.7370\n",
      "Epoch 76/200\n",
      "7500/7500 [==============================] - 0s 29us/step - loss: 1.0940 - acc: 0.5903 - val_loss: 0.8213 - val_acc: 0.7360\n",
      "Epoch 77/200\n",
      "7500/7500 [==============================] - 0s 30us/step - loss: 1.0864 - acc: 0.5919 - val_loss: 0.8140 - val_acc: 0.7370\n",
      "Epoch 78/200\n",
      "7500/7500 [==============================] - 0s 27us/step - loss: 1.0872 - acc: 0.5936 - val_loss: 0.8073 - val_acc: 0.7370\n",
      "Epoch 79/200\n",
      "7500/7500 [==============================] - 0s 26us/step - loss: 1.0767 - acc: 0.5975 - val_loss: 0.7990 - val_acc: 0.7370\n",
      "Epoch 80/200\n",
      "7500/7500 [==============================] - 0s 27us/step - loss: 1.0606 - acc: 0.6045 - val_loss: 0.7912 - val_acc: 0.7390\n",
      "Epoch 81/200\n",
      "7500/7500 [==============================] - 0s 27us/step - loss: 1.0702 - acc: 0.6021 - val_loss: 0.7851 - val_acc: 0.7400\n",
      "Epoch 82/200\n",
      "7500/7500 [==============================] - 0s 27us/step - loss: 1.0764 - acc: 0.5968 - val_loss: 0.7811 - val_acc: 0.7430\n",
      "Epoch 83/200\n",
      "7500/7500 [==============================] - 0s 27us/step - loss: 1.0551 - acc: 0.6103 - val_loss: 0.7777 - val_acc: 0.7410\n",
      "Epoch 84/200\n",
      "7500/7500 [==============================] - 0s 29us/step - loss: 1.0540 - acc: 0.6044 - val_loss: 0.7700 - val_acc: 0.7450\n",
      "Epoch 85/200\n",
      "7500/7500 [==============================] - 0s 27us/step - loss: 1.0394 - acc: 0.6139 - val_loss: 0.7644 - val_acc: 0.7470\n",
      "Epoch 86/200\n",
      "7500/7500 [==============================] - 0s 25us/step - loss: 1.0397 - acc: 0.6067 - val_loss: 0.7589 - val_acc: 0.7470\n",
      "Epoch 87/200\n",
      "7500/7500 [==============================] - 0s 27us/step - loss: 1.0272 - acc: 0.6219 - val_loss: 0.7505 - val_acc: 0.7510\n",
      "Epoch 88/200\n",
      "7500/7500 [==============================] - 0s 27us/step - loss: 1.0158 - acc: 0.6245 - val_loss: 0.7446 - val_acc: 0.7460\n",
      "Epoch 89/200\n",
      "7500/7500 [==============================] - 0s 26us/step - loss: 1.0275 - acc: 0.6136 - val_loss: 0.7412 - val_acc: 0.7500\n",
      "Epoch 90/200\n",
      "7500/7500 [==============================] - 0s 25us/step - loss: 1.0228 - acc: 0.6173 - val_loss: 0.7377 - val_acc: 0.7490\n",
      "Epoch 91/200\n",
      "7500/7500 [==============================] - 0s 25us/step - loss: 1.0199 - acc: 0.6184 - val_loss: 0.7353 - val_acc: 0.7500\n",
      "Epoch 92/200\n",
      "7500/7500 [==============================] - 0s 25us/step - loss: 1.0134 - acc: 0.6215 - val_loss: 0.7303 - val_acc: 0.7530\n",
      "Epoch 93/200\n",
      "7500/7500 [==============================] - 0s 25us/step - loss: 1.0174 - acc: 0.6208 - val_loss: 0.7271 - val_acc: 0.7500\n",
      "Epoch 94/200\n",
      "7500/7500 [==============================] - 0s 26us/step - loss: 1.0023 - acc: 0.6265 - val_loss: 0.7241 - val_acc: 0.7500\n",
      "Epoch 95/200\n",
      "7500/7500 [==============================] - 0s 25us/step - loss: 1.0029 - acc: 0.6220 - val_loss: 0.7190 - val_acc: 0.7540\n",
      "Epoch 96/200\n",
      "7500/7500 [==============================] - 0s 26us/step - loss: 0.9879 - acc: 0.6327 - val_loss: 0.7127 - val_acc: 0.7560\n",
      "Epoch 97/200\n",
      "7500/7500 [==============================] - 0s 26us/step - loss: 0.9865 - acc: 0.6252 - val_loss: 0.7100 - val_acc: 0.7550\n",
      "Epoch 98/200\n",
      "7500/7500 [==============================] - 0s 27us/step - loss: 0.9628 - acc: 0.6372 - val_loss: 0.7027 - val_acc: 0.7590\n",
      "Epoch 99/200\n",
      "7500/7500 [==============================] - 0s 27us/step - loss: 0.9743 - acc: 0.6404 - val_loss: 0.7010 - val_acc: 0.7580\n",
      "Epoch 100/200\n",
      "7500/7500 [==============================] - 0s 25us/step - loss: 0.9698 - acc: 0.6383 - val_loss: 0.6961 - val_acc: 0.7580\n",
      "Epoch 101/200\n",
      "7500/7500 [==============================] - 0s 26us/step - loss: 0.9758 - acc: 0.6328 - val_loss: 0.6926 - val_acc: 0.7590\n",
      "Epoch 102/200\n",
      "7500/7500 [==============================] - 0s 27us/step - loss: 0.9662 - acc: 0.6391 - val_loss: 0.6881 - val_acc: 0.7580\n",
      "Epoch 103/200\n",
      "7500/7500 [==============================] - 0s 26us/step - loss: 0.9672 - acc: 0.6409 - val_loss: 0.6854 - val_acc: 0.7550\n",
      "Epoch 104/200\n",
      "7500/7500 [==============================] - 0s 27us/step - loss: 0.9480 - acc: 0.6501 - val_loss: 0.6818 - val_acc: 0.7640\n",
      "Epoch 105/200\n",
      "7500/7500 [==============================] - 0s 27us/step - loss: 0.9476 - acc: 0.6475 - val_loss: 0.6776 - val_acc: 0.7610\n",
      "Epoch 106/200\n",
      "7500/7500 [==============================] - 0s 27us/step - loss: 0.9526 - acc: 0.6485 - val_loss: 0.6744 - val_acc: 0.7600\n",
      "Epoch 107/200\n",
      "7500/7500 [==============================] - 0s 26us/step - loss: 0.9478 - acc: 0.6456 - val_loss: 0.6734 - val_acc: 0.7620\n",
      "Epoch 108/200\n",
      "7500/7500 [==============================] - 0s 26us/step - loss: 0.9373 - acc: 0.6532 - val_loss: 0.6690 - val_acc: 0.7600\n",
      "Epoch 109/200\n",
      "7500/7500 [==============================] - 0s 27us/step - loss: 0.9404 - acc: 0.6469 - val_loss: 0.6653 - val_acc: 0.7620\n",
      "Epoch 110/200\n",
      "7500/7500 [==============================] - 0s 28us/step - loss: 0.9366 - acc: 0.6524 - val_loss: 0.6629 - val_acc: 0.7620\n",
      "Epoch 111/200\n",
      "7500/7500 [==============================] - 0s 29us/step - loss: 0.9141 - acc: 0.6569 - val_loss: 0.6577 - val_acc: 0.7650\n",
      "Epoch 112/200\n",
      "7500/7500 [==============================] - 0s 32us/step - loss: 0.9396 - acc: 0.6484 - val_loss: 0.6591 - val_acc: 0.7620\n",
      "Epoch 113/200\n",
      "7500/7500 [==============================] - 0s 27us/step - loss: 0.9192 - acc: 0.6569 - val_loss: 0.6553 - val_acc: 0.7630\n",
      "Epoch 114/200\n",
      "7500/7500 [==============================] - 0s 28us/step - loss: 0.9250 - acc: 0.6605 - val_loss: 0.6542 - val_acc: 0.7620\n",
      "Epoch 115/200\n",
      "7500/7500 [==============================] - 0s 28us/step - loss: 0.9224 - acc: 0.6533 - val_loss: 0.6496 - val_acc: 0.7640\n",
      "Epoch 116/200\n",
      "7500/7500 [==============================] - 0s 27us/step - loss: 0.9200 - acc: 0.6568 - val_loss: 0.6510 - val_acc: 0.7640\n",
      "Epoch 117/200\n",
      "7500/7500 [==============================] - 0s 27us/step - loss: 0.9003 - acc: 0.6680 - val_loss: 0.6470 - val_acc: 0.7610\n",
      "Epoch 118/200\n",
      "7500/7500 [==============================] - 0s 26us/step - loss: 0.9010 - acc: 0.6671 - val_loss: 0.6434 - val_acc: 0.7660\n",
      "Epoch 119/200\n",
      "7500/7500 [==============================] - 0s 27us/step - loss: 0.9034 - acc: 0.6628 - val_loss: 0.6428 - val_acc: 0.7640\n"
     ]
    },
    {
     "name": "stdout",
     "output_type": "stream",
     "text": [
      "Epoch 120/200\n",
      "7500/7500 [==============================] - 0s 28us/step - loss: 0.9110 - acc: 0.6584 - val_loss: 0.6407 - val_acc: 0.7640\n",
      "Epoch 121/200\n",
      "7500/7500 [==============================] - 0s 27us/step - loss: 0.8934 - acc: 0.6695 - val_loss: 0.6380 - val_acc: 0.7670\n",
      "Epoch 122/200\n",
      "7500/7500 [==============================] - 0s 29us/step - loss: 0.8921 - acc: 0.6660 - val_loss: 0.6374 - val_acc: 0.7640\n",
      "Epoch 123/200\n",
      "7500/7500 [==============================] - 0s 27us/step - loss: 0.8894 - acc: 0.6664 - val_loss: 0.6322 - val_acc: 0.7660\n",
      "Epoch 124/200\n",
      "7500/7500 [==============================] - 0s 26us/step - loss: 0.8856 - acc: 0.6701 - val_loss: 0.6285 - val_acc: 0.7670\n",
      "Epoch 125/200\n",
      "7500/7500 [==============================] - 0s 28us/step - loss: 0.8889 - acc: 0.6688 - val_loss: 0.6283 - val_acc: 0.7700\n",
      "Epoch 126/200\n",
      "7500/7500 [==============================] - 0s 27us/step - loss: 0.8769 - acc: 0.6671 - val_loss: 0.6276 - val_acc: 0.7680\n",
      "Epoch 127/200\n",
      "7500/7500 [==============================] - 0s 29us/step - loss: 0.8794 - acc: 0.6720 - val_loss: 0.6248 - val_acc: 0.7670\n",
      "Epoch 128/200\n",
      "7500/7500 [==============================] - 0s 27us/step - loss: 0.8593 - acc: 0.6759 - val_loss: 0.6234 - val_acc: 0.7690\n",
      "Epoch 129/200\n",
      "7500/7500 [==============================] - 0s 25us/step - loss: 0.8801 - acc: 0.6691 - val_loss: 0.6223 - val_acc: 0.7690\n",
      "Epoch 130/200\n",
      "7500/7500 [==============================] - 0s 27us/step - loss: 0.8658 - acc: 0.6731 - val_loss: 0.6190 - val_acc: 0.7720\n",
      "Epoch 131/200\n",
      "7500/7500 [==============================] - 0s 27us/step - loss: 0.8869 - acc: 0.6708 - val_loss: 0.6189 - val_acc: 0.7750\n",
      "Epoch 132/200\n",
      "7500/7500 [==============================] - 0s 25us/step - loss: 0.8563 - acc: 0.6824 - val_loss: 0.6160 - val_acc: 0.7750\n",
      "Epoch 133/200\n",
      "7500/7500 [==============================] - 0s 27us/step - loss: 0.8640 - acc: 0.6839 - val_loss: 0.6151 - val_acc: 0.7740\n",
      "Epoch 134/200\n",
      "7500/7500 [==============================] - 0s 25us/step - loss: 0.8484 - acc: 0.6855 - val_loss: 0.6113 - val_acc: 0.7710\n",
      "Epoch 135/200\n",
      "7500/7500 [==============================] - 0s 27us/step - loss: 0.8609 - acc: 0.6819 - val_loss: 0.6112 - val_acc: 0.7730\n",
      "Epoch 136/200\n",
      "7500/7500 [==============================] - 0s 28us/step - loss: 0.8558 - acc: 0.6849 - val_loss: 0.6074 - val_acc: 0.7730\n",
      "Epoch 137/200\n",
      "7500/7500 [==============================] - 0s 27us/step - loss: 0.8475 - acc: 0.6873 - val_loss: 0.6076 - val_acc: 0.7700\n",
      "Epoch 138/200\n",
      "7500/7500 [==============================] - 0s 29us/step - loss: 0.8470 - acc: 0.6843 - val_loss: 0.6069 - val_acc: 0.7720\n",
      "Epoch 139/200\n",
      "7500/7500 [==============================] - 0s 29us/step - loss: 0.8506 - acc: 0.6827 - val_loss: 0.6039 - val_acc: 0.7750\n",
      "Epoch 140/200\n",
      "7500/7500 [==============================] - 0s 28us/step - loss: 0.8442 - acc: 0.6788 - val_loss: 0.6027 - val_acc: 0.7720\n",
      "Epoch 141/200\n",
      "7500/7500 [==============================] - 0s 27us/step - loss: 0.8418 - acc: 0.6872 - val_loss: 0.6037 - val_acc: 0.7760\n",
      "Epoch 142/200\n",
      "7500/7500 [==============================] - 0s 26us/step - loss: 0.8406 - acc: 0.6839 - val_loss: 0.6015 - val_acc: 0.7760\n",
      "Epoch 143/200\n",
      "7500/7500 [==============================] - 0s 27us/step - loss: 0.8358 - acc: 0.6884 - val_loss: 0.5979 - val_acc: 0.7790\n",
      "Epoch 144/200\n",
      "7500/7500 [==============================] - 0s 26us/step - loss: 0.8416 - acc: 0.6879 - val_loss: 0.5957 - val_acc: 0.7770\n",
      "Epoch 145/200\n",
      "7500/7500 [==============================] - 0s 26us/step - loss: 0.8329 - acc: 0.6801 - val_loss: 0.5942 - val_acc: 0.7750\n",
      "Epoch 146/200\n",
      "7500/7500 [==============================] - 0s 26us/step - loss: 0.8179 - acc: 0.6956 - val_loss: 0.5947 - val_acc: 0.7760\n",
      "Epoch 147/200\n",
      "7500/7500 [==============================] - 0s 26us/step - loss: 0.8390 - acc: 0.6831 - val_loss: 0.5946 - val_acc: 0.7770\n",
      "Epoch 148/200\n",
      "7500/7500 [==============================] - 0s 26us/step - loss: 0.8243 - acc: 0.6896 - val_loss: 0.5922 - val_acc: 0.7760\n",
      "Epoch 149/200\n",
      "7500/7500 [==============================] - 0s 29us/step - loss: 0.8181 - acc: 0.6913 - val_loss: 0.5918 - val_acc: 0.7810\n",
      "Epoch 150/200\n",
      "7500/7500 [==============================] - 0s 26us/step - loss: 0.8336 - acc: 0.6841 - val_loss: 0.5914 - val_acc: 0.7810\n",
      "Epoch 151/200\n",
      "7500/7500 [==============================] - 0s 26us/step - loss: 0.8093 - acc: 0.6941 - val_loss: 0.5911 - val_acc: 0.7800\n",
      "Epoch 152/200\n",
      "7500/7500 [==============================] - 0s 26us/step - loss: 0.8186 - acc: 0.6928 - val_loss: 0.5864 - val_acc: 0.7850\n",
      "Epoch 153/200\n",
      "7500/7500 [==============================] - 0s 26us/step - loss: 0.8137 - acc: 0.7011 - val_loss: 0.5850 - val_acc: 0.7760\n",
      "Epoch 154/200\n",
      "7500/7500 [==============================] - 0s 26us/step - loss: 0.8236 - acc: 0.6940 - val_loss: 0.5852 - val_acc: 0.7820\n",
      "Epoch 155/200\n",
      "7500/7500 [==============================] - 0s 26us/step - loss: 0.8231 - acc: 0.6897 - val_loss: 0.5852 - val_acc: 0.7830\n",
      "Epoch 156/200\n",
      "7500/7500 [==============================] - 0s 27us/step - loss: 0.8060 - acc: 0.7013 - val_loss: 0.5845 - val_acc: 0.7790\n",
      "Epoch 157/200\n",
      "7500/7500 [==============================] - 0s 26us/step - loss: 0.7927 - acc: 0.7033 - val_loss: 0.5826 - val_acc: 0.7810\n",
      "Epoch 158/200\n",
      "7500/7500 [==============================] - 0s 26us/step - loss: 0.7906 - acc: 0.7007 - val_loss: 0.5800 - val_acc: 0.7840\n",
      "Epoch 159/200\n",
      "7500/7500 [==============================] - 0s 26us/step - loss: 0.8047 - acc: 0.6956 - val_loss: 0.5789 - val_acc: 0.7820\n",
      "Epoch 160/200\n",
      "7500/7500 [==============================] - 0s 27us/step - loss: 0.8041 - acc: 0.7039 - val_loss: 0.5785 - val_acc: 0.7840\n",
      "Epoch 161/200\n",
      "7500/7500 [==============================] - 0s 28us/step - loss: 0.7914 - acc: 0.7107 - val_loss: 0.5778 - val_acc: 0.7770\n",
      "Epoch 162/200\n",
      "7500/7500 [==============================] - 0s 27us/step - loss: 0.7874 - acc: 0.7096 - val_loss: 0.5766 - val_acc: 0.7780\n",
      "Epoch 163/200\n",
      "7500/7500 [==============================] - 0s 27us/step - loss: 0.7860 - acc: 0.7115 - val_loss: 0.5753 - val_acc: 0.7880\n",
      "Epoch 164/200\n",
      "7500/7500 [==============================] - 0s 27us/step - loss: 0.7962 - acc: 0.7027 - val_loss: 0.5772 - val_acc: 0.7800\n",
      "Epoch 165/200\n",
      "7500/7500 [==============================] - 0s 27us/step - loss: 0.7840 - acc: 0.7115 - val_loss: 0.5736 - val_acc: 0.7850\n",
      "Epoch 166/200\n",
      "7500/7500 [==============================] - 0s 29us/step - loss: 0.7821 - acc: 0.7073 - val_loss: 0.5730 - val_acc: 0.7820\n",
      "Epoch 167/200\n",
      "7500/7500 [==============================] - 0s 27us/step - loss: 0.7884 - acc: 0.7077 - val_loss: 0.5700 - val_acc: 0.7840\n",
      "Epoch 168/200\n",
      "7500/7500 [==============================] - 0s 30us/step - loss: 0.7944 - acc: 0.7095 - val_loss: 0.5711 - val_acc: 0.7820\n",
      "Epoch 169/200\n",
      "7500/7500 [==============================] - 0s 27us/step - loss: 0.7728 - acc: 0.7117 - val_loss: 0.5682 - val_acc: 0.7810\n",
      "Epoch 170/200\n",
      "7500/7500 [==============================] - 0s 25us/step - loss: 0.7821 - acc: 0.7048 - val_loss: 0.5666 - val_acc: 0.7840\n",
      "Epoch 171/200\n",
      "7500/7500 [==============================] - 0s 26us/step - loss: 0.7830 - acc: 0.7076 - val_loss: 0.5673 - val_acc: 0.7840\n",
      "Epoch 172/200\n",
      "7500/7500 [==============================] - 0s 29us/step - loss: 0.7835 - acc: 0.7121 - val_loss: 0.5684 - val_acc: 0.7830\n",
      "Epoch 173/200\n",
      "7500/7500 [==============================] - 0s 28us/step - loss: 0.7745 - acc: 0.7136 - val_loss: 0.5668 - val_acc: 0.7850\n",
      "Epoch 174/200\n",
      "7500/7500 [==============================] - 0s 26us/step - loss: 0.7770 - acc: 0.7079 - val_loss: 0.5686 - val_acc: 0.7810\n",
      "Epoch 175/200\n",
      "7500/7500 [==============================] - 0s 29us/step - loss: 0.7860 - acc: 0.7053 - val_loss: 0.5658 - val_acc: 0.7860\n",
      "Epoch 176/200\n",
      "7500/7500 [==============================] - 0s 31us/step - loss: 0.7738 - acc: 0.7079 - val_loss: 0.5644 - val_acc: 0.7880\n",
      "Epoch 177/200\n",
      "7500/7500 [==============================] - 0s 31us/step - loss: 0.7666 - acc: 0.7068 - val_loss: 0.5638 - val_acc: 0.7820\n",
      "Epoch 178/200\n",
      "7500/7500 [==============================] - 0s 30us/step - loss: 0.7707 - acc: 0.7079 - val_loss: 0.5627 - val_acc: 0.7840\n",
      "Epoch 179/200\n",
      "7500/7500 [==============================] - 0s 27us/step - loss: 0.7840 - acc: 0.7064 - val_loss: 0.5618 - val_acc: 0.7870\n",
      "Epoch 180/200\n",
      "7500/7500 [==============================] - 0s 27us/step - loss: 0.7650 - acc: 0.7151 - val_loss: 0.5598 - val_acc: 0.7850\n",
      "Epoch 181/200\n",
      "7500/7500 [==============================] - 0s 29us/step - loss: 0.7661 - acc: 0.7088 - val_loss: 0.5599 - val_acc: 0.7860\n",
      "Epoch 182/200\n",
      "7500/7500 [==============================] - 0s 30us/step - loss: 0.7444 - acc: 0.7239 - val_loss: 0.5568 - val_acc: 0.7870\n",
      "Epoch 183/200\n",
      "7500/7500 [==============================] - 0s 26us/step - loss: 0.7523 - acc: 0.7149 - val_loss: 0.5578 - val_acc: 0.7830\n",
      "Epoch 184/200\n",
      "7500/7500 [==============================] - 0s 27us/step - loss: 0.7616 - acc: 0.7185 - val_loss: 0.5593 - val_acc: 0.7850\n",
      "Epoch 185/200\n",
      "7500/7500 [==============================] - 0s 28us/step - loss: 0.7566 - acc: 0.7108 - val_loss: 0.5588 - val_acc: 0.7860\n",
      "Epoch 186/200\n",
      "7500/7500 [==============================] - 0s 26us/step - loss: 0.7467 - acc: 0.7197 - val_loss: 0.5590 - val_acc: 0.7830\n",
      "Epoch 187/200\n",
      "7500/7500 [==============================] - 0s 28us/step - loss: 0.7537 - acc: 0.7157 - val_loss: 0.5566 - val_acc: 0.7800\n",
      "Epoch 188/200\n",
      "7500/7500 [==============================] - 0s 28us/step - loss: 0.7494 - acc: 0.7199 - val_loss: 0.5566 - val_acc: 0.7830\n",
      "Epoch 189/200\n",
      "7500/7500 [==============================] - 0s 28us/step - loss: 0.7526 - acc: 0.7203 - val_loss: 0.5554 - val_acc: 0.7880\n",
      "Epoch 190/200\n",
      "7500/7500 [==============================] - 0s 27us/step - loss: 0.7362 - acc: 0.7256 - val_loss: 0.5528 - val_acc: 0.7860\n",
      "Epoch 191/200\n",
      "7500/7500 [==============================] - 0s 26us/step - loss: 0.7464 - acc: 0.7181 - val_loss: 0.5523 - val_acc: 0.7850\n",
      "Epoch 192/200\n",
      "7500/7500 [==============================] - 0s 28us/step - loss: 0.7515 - acc: 0.7141 - val_loss: 0.5511 - val_acc: 0.7850\n",
      "Epoch 193/200\n",
      "7500/7500 [==============================] - 0s 30us/step - loss: 0.7432 - acc: 0.7191 - val_loss: 0.5511 - val_acc: 0.7880\n",
      "Epoch 194/200\n",
      "7500/7500 [==============================] - 0s 28us/step - loss: 0.7388 - acc: 0.7232 - val_loss: 0.5523 - val_acc: 0.7850\n",
      "Epoch 195/200\n",
      "7500/7500 [==============================] - 0s 25us/step - loss: 0.7412 - acc: 0.7212 - val_loss: 0.5543 - val_acc: 0.7840\n",
      "Epoch 196/200\n",
      "7500/7500 [==============================] - 0s 26us/step - loss: 0.7288 - acc: 0.7279 - val_loss: 0.5510 - val_acc: 0.7830\n",
      "Epoch 197/200\n",
      "7500/7500 [==============================] - 0s 28us/step - loss: 0.7335 - acc: 0.7285 - val_loss: 0.5509 - val_acc: 0.7820\n",
      "Epoch 198/200\n",
      "7500/7500 [==============================] - 0s 25us/step - loss: 0.7255 - acc: 0.7292 - val_loss: 0.5480 - val_acc: 0.7840\n",
      "Epoch 199/200\n",
      "7500/7500 [==============================] - 0s 27us/step - loss: 0.7341 - acc: 0.7236 - val_loss: 0.5490 - val_acc: 0.7830\n",
      "Epoch 200/200\n",
      "7500/7500 [==============================] - 0s 26us/step - loss: 0.7398 - acc: 0.7244 - val_loss: 0.5489 - val_acc: 0.7840\n"
     ]
    }
   ],
   "source": [
    "random.seed(123)\n",
    "model = models.Sequential()\n",
    "model.add(layers.Dropout(0.3, input_shape=(2000,)))\n",
    "model.add(layers.Dense(50, activation='relu')) #2 hidden layers\n",
    "model.add(layers.Dropout(0.3))\n",
    "model.add(layers.Dense(25, activation='relu'))\n",
    "model.add(layers.Dropout(0.3))\n",
    "model.add(layers.Dense(7, activation='softmax'))\n",
    "\n",
    "model.compile(optimizer='SGD',\n",
    "              loss='categorical_crossentropy',\n",
    "              metrics=['accuracy'])\n",
    "\n",
    "dropout_model = model.fit(train_final,\n",
    "                    label_train_final,\n",
    "                    epochs=200,\n",
    "                    batch_size=256,\n",
    "                    validation_data=(val, label_val))"
   ]
  },
  {
   "cell_type": "code",
   "execution_count": 39,
   "metadata": {
    "scrolled": true
   },
   "outputs": [
    {
     "name": "stdout",
     "output_type": "stream",
     "text": [
      "7500/7500 [==============================] - 0s 24us/step\n",
      "1500/1500 [==============================] - 0s 26us/step\n"
     ]
    }
   ],
   "source": [
    "results_train = model.evaluate(train_final, label_train_final)\n",
    "results_test = model.evaluate(X_test, y_test)"
   ]
  },
  {
   "cell_type": "code",
   "execution_count": 40,
   "metadata": {},
   "outputs": [
    {
     "data": {
      "text/plain": [
       "[0.44953240927060445, 0.8355999999682109]"
      ]
     },
     "execution_count": 40,
     "metadata": {},
     "output_type": "execute_result"
    }
   ],
   "source": [
    "results_train"
   ]
  },
  {
   "cell_type": "code",
   "execution_count": 41,
   "metadata": {},
   "outputs": [
    {
     "data": {
      "text/plain": [
       "[0.6567809325853984, 0.745333333492279]"
      ]
     },
     "execution_count": 41,
     "metadata": {},
     "output_type": "execute_result"
    }
   ],
   "source": [
    "results_test"
   ]
  },
  {
   "cell_type": "markdown",
   "metadata": {},
   "source": [
    "You can see here that the validation performance has improved again! the variance did become higher again compared to L1-regularization."
   ]
  },
  {
   "cell_type": "markdown",
   "metadata": {},
   "source": [
    "## Bigger Data?"
   ]
  },
  {
   "cell_type": "markdown",
   "metadata": {},
   "source": [
    "In the lecture, one of the solutions to high variance was just getting more data. You actually *have* more data, but took a subset of 10,000 units before. Let's now quadruple your data set, and see what happens. Note that you are really just lucky here, and getting more data isn't always possible, but this is a useful exercise in order to understand the power of big data sets."
   ]
  },
  {
   "cell_type": "code",
   "execution_count": 42,
   "metadata": {},
   "outputs": [],
   "source": [
    "df = pd.read_csv('Bank_complaints.csv')\n",
    "random.seed(123)\n",
    "df = df.sample(40000)\n",
    "df.index = range(40000)\n",
    "product = df[\"Product\"]\n",
    "complaints = df[\"Consumer complaint narrative\"]\n",
    "\n",
    "#one-hot encoding of the complaints\n",
    "tokenizer = Tokenizer(num_words=2000)\n",
    "tokenizer.fit_on_texts(complaints)\n",
    "sequences = tokenizer.texts_to_sequences(complaints)\n",
    "one_hot_results= tokenizer.texts_to_matrix(complaints, mode='binary')\n",
    "word_index = tokenizer.word_index\n",
    "np.shape(one_hot_results)\n",
    "\n",
    "#one-hot encoding of products\n",
    "le = preprocessing.LabelEncoder()\n",
    "le.fit(product)\n",
    "list(le.classes_)\n",
    "product_cat = le.transform(product) \n",
    "product_onehot = to_categorical(product_cat)\n",
    "\n",
    "# train test split\n",
    "test_index = random.sample(range(1,40000), 4000)\n",
    "test = one_hot_results[test_index]\n",
    "train = np.delete(one_hot_results, test_index, 0)\n",
    "label_test = product_onehot[test_index]\n",
    "label_train = np.delete(product_onehot, test_index, 0)\n",
    "\n",
    "#Validation set\n",
    "random.seed(123)\n",
    "val = train[:3000]\n",
    "train_final = train[3000:]\n",
    "label_val = label_train[:3000]\n",
    "label_train_final = label_train[3000:]"
   ]
  },
  {
   "cell_type": "code",
   "execution_count": 43,
   "metadata": {},
   "outputs": [
    {
     "name": "stdout",
     "output_type": "stream",
     "text": [
      "Train on 33000 samples, validate on 3000 samples\n",
      "Epoch 1/120\n",
      "33000/33000 [==============================] - 1s 25us/step - loss: 1.9131 - acc: 0.1977 - val_loss: 1.8734 - val_acc: 0.2517\n",
      "Epoch 2/120\n",
      "33000/33000 [==============================] - 1s 16us/step - loss: 1.8204 - acc: 0.3034 - val_loss: 1.7551 - val_acc: 0.3397\n",
      "Epoch 3/120\n",
      "33000/33000 [==============================] - 1s 16us/step - loss: 1.6686 - acc: 0.4072 - val_loss: 1.5741 - val_acc: 0.4647\n",
      "Epoch 4/120\n",
      "33000/33000 [==============================] - 1s 15us/step - loss: 1.4662 - acc: 0.5248 - val_loss: 1.3619 - val_acc: 0.5560\n",
      "Epoch 5/120\n",
      "33000/33000 [==============================] - 1s 15us/step - loss: 1.2557 - acc: 0.6060 - val_loss: 1.1666 - val_acc: 0.6303\n",
      "Epoch 6/120\n",
      "33000/33000 [==============================] - 0s 15us/step - loss: 1.0768 - acc: 0.6660 - val_loss: 1.0120 - val_acc: 0.6777\n",
      "Epoch 7/120\n",
      "33000/33000 [==============================] - 1s 15us/step - loss: 0.9451 - acc: 0.7012 - val_loss: 0.9037 - val_acc: 0.7047\n",
      "Epoch 8/120\n",
      "33000/33000 [==============================] - 1s 15us/step - loss: 0.8536 - acc: 0.7191 - val_loss: 0.8281 - val_acc: 0.7210\n",
      "Epoch 9/120\n",
      "33000/33000 [==============================] - 1s 15us/step - loss: 0.7894 - acc: 0.7321 - val_loss: 0.7750 - val_acc: 0.7300\n",
      "Epoch 10/120\n",
      "33000/33000 [==============================] - 1s 15us/step - loss: 0.7434 - acc: 0.7419 - val_loss: 0.7363 - val_acc: 0.7397\n",
      "Epoch 11/120\n",
      "33000/33000 [==============================] - 1s 15us/step - loss: 0.7086 - acc: 0.7492 - val_loss: 0.7075 - val_acc: 0.7450\n",
      "Epoch 12/120\n",
      "33000/33000 [==============================] - 1s 16us/step - loss: 0.6815 - acc: 0.7555 - val_loss: 0.6846 - val_acc: 0.7507\n",
      "Epoch 13/120\n",
      "33000/33000 [==============================] - 1s 16us/step - loss: 0.6596 - acc: 0.7612 - val_loss: 0.6661 - val_acc: 0.7587\n",
      "Epoch 14/120\n",
      "33000/33000 [==============================] - 1s 16us/step - loss: 0.6413 - acc: 0.7678 - val_loss: 0.6501 - val_acc: 0.7623\n",
      "Epoch 15/120\n",
      "33000/33000 [==============================] - 1s 15us/step - loss: 0.6259 - acc: 0.7724 - val_loss: 0.6383 - val_acc: 0.7653\n",
      "Epoch 16/120\n",
      "33000/33000 [==============================] - 0s 15us/step - loss: 0.6119 - acc: 0.7780 - val_loss: 0.6275 - val_acc: 0.7700\n",
      "Epoch 17/120\n",
      "33000/33000 [==============================] - 1s 15us/step - loss: 0.5999 - acc: 0.7809 - val_loss: 0.6168 - val_acc: 0.7720\n",
      "Epoch 18/120\n",
      "33000/33000 [==============================] - 1s 15us/step - loss: 0.5891 - acc: 0.7845 - val_loss: 0.6079 - val_acc: 0.7757\n",
      "Epoch 19/120\n",
      "33000/33000 [==============================] - 1s 15us/step - loss: 0.5792 - acc: 0.7892 - val_loss: 0.6013 - val_acc: 0.7753\n",
      "Epoch 20/120\n",
      "33000/33000 [==============================] - 1s 15us/step - loss: 0.5700 - acc: 0.7920 - val_loss: 0.5924 - val_acc: 0.7813\n",
      "Epoch 21/120\n",
      "33000/33000 [==============================] - 1s 15us/step - loss: 0.5614 - acc: 0.7954 - val_loss: 0.5879 - val_acc: 0.7807\n",
      "Epoch 22/120\n",
      "33000/33000 [==============================] - 1s 16us/step - loss: 0.5535 - acc: 0.7989 - val_loss: 0.5832 - val_acc: 0.7817\n",
      "Epoch 23/120\n",
      "33000/33000 [==============================] - 1s 16us/step - loss: 0.5459 - acc: 0.8010 - val_loss: 0.5766 - val_acc: 0.7847\n",
      "Epoch 24/120\n",
      "33000/33000 [==============================] - 1s 16us/step - loss: 0.5391 - acc: 0.8044 - val_loss: 0.5735 - val_acc: 0.7850\n",
      "Epoch 25/120\n",
      "33000/33000 [==============================] - 1s 16us/step - loss: 0.5326 - acc: 0.8076 - val_loss: 0.5674 - val_acc: 0.7937\n",
      "Epoch 26/120\n",
      "33000/33000 [==============================] - 1s 15us/step - loss: 0.5264 - acc: 0.8092 - val_loss: 0.5622 - val_acc: 0.7920\n",
      "Epoch 27/120\n",
      "33000/33000 [==============================] - 1s 16us/step - loss: 0.5198 - acc: 0.8114 - val_loss: 0.5599 - val_acc: 0.7977\n",
      "Epoch 28/120\n",
      "33000/33000 [==============================] - 1s 16us/step - loss: 0.5144 - acc: 0.8140 - val_loss: 0.5571 - val_acc: 0.8000\n",
      "Epoch 29/120\n",
      "33000/33000 [==============================] - 1s 16us/step - loss: 0.5087 - acc: 0.8162 - val_loss: 0.5509 - val_acc: 0.8000\n",
      "Epoch 30/120\n",
      "33000/33000 [==============================] - 1s 16us/step - loss: 0.5033 - acc: 0.8180 - val_loss: 0.5483 - val_acc: 0.8020\n",
      "Epoch 31/120\n",
      "33000/33000 [==============================] - 1s 15us/step - loss: 0.4982 - acc: 0.8205 - val_loss: 0.5443 - val_acc: 0.8023\n",
      "Epoch 32/120\n",
      "33000/33000 [==============================] - 1s 15us/step - loss: 0.4934 - acc: 0.8222 - val_loss: 0.5435 - val_acc: 0.8027\n",
      "Epoch 33/120\n",
      "33000/33000 [==============================] - 1s 16us/step - loss: 0.4885 - acc: 0.8253 - val_loss: 0.5426 - val_acc: 0.8033\n",
      "Epoch 34/120\n",
      "33000/33000 [==============================] - 1s 16us/step - loss: 0.4840 - acc: 0.8256 - val_loss: 0.5386 - val_acc: 0.8080\n",
      "Epoch 35/120\n",
      "33000/33000 [==============================] - 1s 15us/step - loss: 0.4799 - acc: 0.8278 - val_loss: 0.5341 - val_acc: 0.8093\n",
      "Epoch 36/120\n",
      "33000/33000 [==============================] - 1s 15us/step - loss: 0.4755 - acc: 0.8305 - val_loss: 0.5322 - val_acc: 0.8100\n",
      "Epoch 37/120\n",
      "33000/33000 [==============================] - 1s 16us/step - loss: 0.4713 - acc: 0.8308 - val_loss: 0.5297 - val_acc: 0.8117\n",
      "Epoch 38/120\n",
      "33000/33000 [==============================] - 1s 15us/step - loss: 0.4674 - acc: 0.8319 - val_loss: 0.5273 - val_acc: 0.8123\n",
      "Epoch 39/120\n",
      "33000/33000 [==============================] - 0s 15us/step - loss: 0.4632 - acc: 0.8339 - val_loss: 0.5265 - val_acc: 0.8103\n",
      "Epoch 40/120\n",
      "33000/33000 [==============================] - 0s 15us/step - loss: 0.4599 - acc: 0.8355 - val_loss: 0.5236 - val_acc: 0.8103\n",
      "Epoch 41/120\n",
      "33000/33000 [==============================] - 0s 15us/step - loss: 0.4558 - acc: 0.8370 - val_loss: 0.5241 - val_acc: 0.8103\n",
      "Epoch 42/120\n",
      "33000/33000 [==============================] - 1s 15us/step - loss: 0.4522 - acc: 0.8383 - val_loss: 0.5210 - val_acc: 0.8120\n",
      "Epoch 43/120\n",
      "33000/33000 [==============================] - 1s 15us/step - loss: 0.4487 - acc: 0.8403 - val_loss: 0.5223 - val_acc: 0.8143\n",
      "Epoch 44/120\n",
      "33000/33000 [==============================] - 1s 16us/step - loss: 0.4453 - acc: 0.8405 - val_loss: 0.5187 - val_acc: 0.8180\n",
      "Epoch 45/120\n",
      "33000/33000 [==============================] - 1s 15us/step - loss: 0.4420 - acc: 0.8427 - val_loss: 0.5206 - val_acc: 0.8153\n",
      "Epoch 46/120\n",
      "33000/33000 [==============================] - 0s 15us/step - loss: 0.4388 - acc: 0.8437 - val_loss: 0.5186 - val_acc: 0.8120\n",
      "Epoch 47/120\n",
      "33000/33000 [==============================] - 1s 15us/step - loss: 0.4358 - acc: 0.8442 - val_loss: 0.5154 - val_acc: 0.8133\n",
      "Epoch 48/120\n",
      "33000/33000 [==============================] - 0s 15us/step - loss: 0.4324 - acc: 0.8458 - val_loss: 0.5156 - val_acc: 0.8130\n",
      "Epoch 49/120\n",
      "33000/33000 [==============================] - 1s 15us/step - loss: 0.4296 - acc: 0.8474 - val_loss: 0.5147 - val_acc: 0.8150\n",
      "Epoch 50/120\n",
      "33000/33000 [==============================] - 0s 15us/step - loss: 0.4266 - acc: 0.8484 - val_loss: 0.5136 - val_acc: 0.8117\n",
      "Epoch 51/120\n",
      "33000/33000 [==============================] - 0s 15us/step - loss: 0.4235 - acc: 0.8492 - val_loss: 0.5142 - val_acc: 0.8167\n",
      "Epoch 52/120\n",
      "33000/33000 [==============================] - 1s 16us/step - loss: 0.4206 - acc: 0.8502 - val_loss: 0.5135 - val_acc: 0.8133\n",
      "Epoch 53/120\n",
      "33000/33000 [==============================] - 1s 15us/step - loss: 0.4181 - acc: 0.8508 - val_loss: 0.5154 - val_acc: 0.8163\n",
      "Epoch 54/120\n",
      "33000/33000 [==============================] - 1s 15us/step - loss: 0.4152 - acc: 0.8521 - val_loss: 0.5109 - val_acc: 0.8140\n",
      "Epoch 55/120\n",
      "33000/33000 [==============================] - 0s 15us/step - loss: 0.4125 - acc: 0.8531 - val_loss: 0.5124 - val_acc: 0.8160\n",
      "Epoch 56/120\n",
      "33000/33000 [==============================] - 0s 15us/step - loss: 0.4100 - acc: 0.8537 - val_loss: 0.5126 - val_acc: 0.8163\n",
      "Epoch 57/120\n",
      "33000/33000 [==============================] - 0s 15us/step - loss: 0.4076 - acc: 0.8543 - val_loss: 0.5112 - val_acc: 0.8180\n",
      "Epoch 58/120\n",
      "33000/33000 [==============================] - 1s 16us/step - loss: 0.4052 - acc: 0.8555 - val_loss: 0.5120 - val_acc: 0.8113\n",
      "Epoch 59/120\n",
      "33000/33000 [==============================] - 0s 15us/step - loss: 0.4028 - acc: 0.8556 - val_loss: 0.5111 - val_acc: 0.8130\n",
      "Epoch 60/120\n",
      "33000/33000 [==============================] - 1s 15us/step - loss: 0.4000 - acc: 0.8580 - val_loss: 0.5105 - val_acc: 0.8183\n",
      "Epoch 61/120\n",
      "33000/33000 [==============================] - 0s 15us/step - loss: 0.3977 - acc: 0.8590 - val_loss: 0.5116 - val_acc: 0.8163\n",
      "Epoch 62/120\n",
      "33000/33000 [==============================] - 0s 15us/step - loss: 0.3953 - acc: 0.8602 - val_loss: 0.5123 - val_acc: 0.8180\n",
      "Epoch 63/120\n",
      "33000/33000 [==============================] - 0s 15us/step - loss: 0.3931 - acc: 0.8606 - val_loss: 0.5089 - val_acc: 0.8157\n",
      "Epoch 64/120\n",
      "33000/33000 [==============================] - 0s 15us/step - loss: 0.3908 - acc: 0.8617 - val_loss: 0.5120 - val_acc: 0.8113\n",
      "Epoch 65/120\n",
      "33000/33000 [==============================] - 0s 15us/step - loss: 0.3888 - acc: 0.8624 - val_loss: 0.5128 - val_acc: 0.8157\n",
      "Epoch 66/120\n",
      "33000/33000 [==============================] - 0s 15us/step - loss: 0.3863 - acc: 0.8633 - val_loss: 0.5122 - val_acc: 0.8167\n",
      "Epoch 67/120\n",
      "33000/33000 [==============================] - 0s 15us/step - loss: 0.3844 - acc: 0.8638 - val_loss: 0.5100 - val_acc: 0.8157\n",
      "Epoch 68/120\n",
      "33000/33000 [==============================] - 0s 15us/step - loss: 0.3821 - acc: 0.8646 - val_loss: 0.5113 - val_acc: 0.8160\n",
      "Epoch 69/120\n",
      "33000/33000 [==============================] - 0s 15us/step - loss: 0.3801 - acc: 0.8665 - val_loss: 0.5136 - val_acc: 0.8120\n",
      "Epoch 70/120\n",
      "33000/33000 [==============================] - 0s 15us/step - loss: 0.3779 - acc: 0.8661 - val_loss: 0.5121 - val_acc: 0.8163\n",
      "Epoch 71/120\n",
      "33000/33000 [==============================] - 0s 15us/step - loss: 0.3760 - acc: 0.8688 - val_loss: 0.5113 - val_acc: 0.8117\n",
      "Epoch 72/120\n",
      "33000/33000 [==============================] - 0s 15us/step - loss: 0.3741 - acc: 0.8685 - val_loss: 0.5115 - val_acc: 0.8163\n",
      "Epoch 73/120\n",
      "33000/33000 [==============================] - 0s 15us/step - loss: 0.3720 - acc: 0.8689 - val_loss: 0.5121 - val_acc: 0.8167\n",
      "Epoch 74/120\n",
      "33000/33000 [==============================] - 0s 15us/step - loss: 0.3702 - acc: 0.8699 - val_loss: 0.5157 - val_acc: 0.8160\n",
      "Epoch 75/120\n",
      "33000/33000 [==============================] - 0s 15us/step - loss: 0.3681 - acc: 0.8702 - val_loss: 0.5137 - val_acc: 0.8160\n",
      "Epoch 76/120\n",
      "33000/33000 [==============================] - 0s 15us/step - loss: 0.3661 - acc: 0.8725 - val_loss: 0.5126 - val_acc: 0.8143\n",
      "Epoch 77/120\n",
      "33000/33000 [==============================] - 0s 15us/step - loss: 0.3641 - acc: 0.8718 - val_loss: 0.5138 - val_acc: 0.8147\n",
      "Epoch 78/120\n",
      "33000/33000 [==============================] - 0s 15us/step - loss: 0.3627 - acc: 0.8725 - val_loss: 0.5194 - val_acc: 0.8160\n",
      "Epoch 79/120\n",
      "33000/33000 [==============================] - 0s 15us/step - loss: 0.3610 - acc: 0.8739 - val_loss: 0.5152 - val_acc: 0.8117\n",
      "Epoch 80/120\n",
      "33000/33000 [==============================] - 0s 15us/step - loss: 0.3589 - acc: 0.8742 - val_loss: 0.5166 - val_acc: 0.8170\n",
      "Epoch 81/120\n",
      "33000/33000 [==============================] - 0s 15us/step - loss: 0.3571 - acc: 0.8754 - val_loss: 0.5157 - val_acc: 0.8147\n",
      "Epoch 82/120\n",
      "33000/33000 [==============================] - 0s 15us/step - loss: 0.3557 - acc: 0.8765 - val_loss: 0.5159 - val_acc: 0.8150\n",
      "Epoch 83/120\n",
      "33000/33000 [==============================] - 0s 15us/step - loss: 0.3536 - acc: 0.8771 - val_loss: 0.5180 - val_acc: 0.8157\n",
      "Epoch 84/120\n",
      "33000/33000 [==============================] - 0s 15us/step - loss: 0.3520 - acc: 0.8768 - val_loss: 0.5189 - val_acc: 0.8140\n",
      "Epoch 85/120\n",
      "33000/33000 [==============================] - 0s 15us/step - loss: 0.3501 - acc: 0.8779 - val_loss: 0.5177 - val_acc: 0.8160\n",
      "Epoch 86/120\n",
      "33000/33000 [==============================] - 0s 15us/step - loss: 0.3487 - acc: 0.8785 - val_loss: 0.5218 - val_acc: 0.8167\n",
      "Epoch 87/120\n",
      "33000/33000 [==============================] - 0s 15us/step - loss: 0.3468 - acc: 0.8794 - val_loss: 0.5212 - val_acc: 0.8137\n",
      "Epoch 88/120\n",
      "33000/33000 [==============================] - 1s 15us/step - loss: 0.3456 - acc: 0.8793 - val_loss: 0.5198 - val_acc: 0.8153\n",
      "Epoch 89/120\n",
      "33000/33000 [==============================] - 1s 16us/step - loss: 0.3438 - acc: 0.8801 - val_loss: 0.5210 - val_acc: 0.8143\n",
      "Epoch 90/120\n",
      "33000/33000 [==============================] - 0s 15us/step - loss: 0.3421 - acc: 0.8802 - val_loss: 0.5235 - val_acc: 0.8127\n",
      "Epoch 91/120\n",
      "33000/33000 [==============================] - 0s 15us/step - loss: 0.3406 - acc: 0.8813 - val_loss: 0.5213 - val_acc: 0.8143\n",
      "Epoch 92/120\n",
      "33000/33000 [==============================] - 0s 15us/step - loss: 0.3386 - acc: 0.8818 - val_loss: 0.5223 - val_acc: 0.8153\n",
      "Epoch 93/120\n",
      "33000/33000 [==============================] - 1s 15us/step - loss: 0.3374 - acc: 0.8827 - val_loss: 0.5232 - val_acc: 0.8137\n",
      "Epoch 94/120\n",
      "33000/33000 [==============================] - 0s 15us/step - loss: 0.3358 - acc: 0.8840 - val_loss: 0.5240 - val_acc: 0.8150\n",
      "Epoch 95/120\n",
      "33000/33000 [==============================] - 0s 15us/step - loss: 0.3342 - acc: 0.8832 - val_loss: 0.5284 - val_acc: 0.8160\n",
      "Epoch 96/120\n",
      "33000/33000 [==============================] - 0s 15us/step - loss: 0.3328 - acc: 0.8852 - val_loss: 0.5263 - val_acc: 0.8160\n",
      "Epoch 97/120\n",
      "33000/33000 [==============================] - 0s 15us/step - loss: 0.3312 - acc: 0.8856 - val_loss: 0.5260 - val_acc: 0.8137\n",
      "Epoch 98/120\n",
      "33000/33000 [==============================] - 0s 15us/step - loss: 0.3297 - acc: 0.8869 - val_loss: 0.5322 - val_acc: 0.8117\n",
      "Epoch 99/120\n",
      "33000/33000 [==============================] - 0s 15us/step - loss: 0.3280 - acc: 0.8863 - val_loss: 0.5297 - val_acc: 0.8140\n",
      "Epoch 100/120\n",
      "33000/33000 [==============================] - 0s 15us/step - loss: 0.3267 - acc: 0.8873 - val_loss: 0.5302 - val_acc: 0.8127\n",
      "Epoch 101/120\n",
      "33000/33000 [==============================] - 0s 15us/step - loss: 0.3257 - acc: 0.8878 - val_loss: 0.5295 - val_acc: 0.8133\n",
      "Epoch 102/120\n",
      "33000/33000 [==============================] - 0s 15us/step - loss: 0.3239 - acc: 0.8889 - val_loss: 0.5335 - val_acc: 0.8143\n",
      "Epoch 103/120\n",
      "33000/33000 [==============================] - 0s 15us/step - loss: 0.3223 - acc: 0.8888 - val_loss: 0.5320 - val_acc: 0.8153\n",
      "Epoch 104/120\n",
      "33000/33000 [==============================] - 1s 15us/step - loss: 0.3212 - acc: 0.8890 - val_loss: 0.5335 - val_acc: 0.8130\n",
      "Epoch 105/120\n",
      "33000/33000 [==============================] - 0s 15us/step - loss: 0.3196 - acc: 0.8891 - val_loss: 0.5339 - val_acc: 0.8150\n",
      "Epoch 106/120\n",
      "33000/33000 [==============================] - 0s 15us/step - loss: 0.3184 - acc: 0.8903 - val_loss: 0.5370 - val_acc: 0.8143\n",
      "Epoch 107/120\n",
      "33000/33000 [==============================] - 0s 15us/step - loss: 0.3171 - acc: 0.8912 - val_loss: 0.5352 - val_acc: 0.8147\n",
      "Epoch 108/120\n",
      "33000/33000 [==============================] - 0s 15us/step - loss: 0.3152 - acc: 0.8909 - val_loss: 0.5379 - val_acc: 0.8127\n",
      "Epoch 109/120\n",
      "33000/33000 [==============================] - 0s 15us/step - loss: 0.3144 - acc: 0.8923 - val_loss: 0.5363 - val_acc: 0.8137\n",
      "Epoch 110/120\n",
      "33000/33000 [==============================] - 0s 15us/step - loss: 0.3130 - acc: 0.8931 - val_loss: 0.5379 - val_acc: 0.8133\n",
      "Epoch 111/120\n",
      "33000/33000 [==============================] - 0s 15us/step - loss: 0.3114 - acc: 0.8927 - val_loss: 0.5388 - val_acc: 0.8153\n",
      "Epoch 112/120\n",
      "33000/33000 [==============================] - 0s 15us/step - loss: 0.3100 - acc: 0.8924 - val_loss: 0.5392 - val_acc: 0.8147\n",
      "Epoch 113/120\n",
      "33000/33000 [==============================] - 1s 16us/step - loss: 0.3091 - acc: 0.8947 - val_loss: 0.5406 - val_acc: 0.8137\n",
      "Epoch 114/120\n",
      "33000/33000 [==============================] - 0s 15us/step - loss: 0.3078 - acc: 0.8943 - val_loss: 0.5422 - val_acc: 0.8157\n",
      "Epoch 115/120\n",
      "33000/33000 [==============================] - 0s 15us/step - loss: 0.3061 - acc: 0.8951 - val_loss: 0.5433 - val_acc: 0.8123\n",
      "Epoch 116/120\n",
      "33000/33000 [==============================] - 0s 15us/step - loss: 0.3052 - acc: 0.8956 - val_loss: 0.5432 - val_acc: 0.8130\n",
      "Epoch 117/120\n",
      "33000/33000 [==============================] - 0s 15us/step - loss: 0.3035 - acc: 0.8950 - val_loss: 0.5483 - val_acc: 0.8090\n"
     ]
    },
    {
     "name": "stdout",
     "output_type": "stream",
     "text": [
      "Epoch 118/120\n",
      "33000/33000 [==============================] - 0s 15us/step - loss: 0.3024 - acc: 0.8965 - val_loss: 0.5461 - val_acc: 0.8117\n",
      "Epoch 119/120\n",
      "33000/33000 [==============================] - 1s 16us/step - loss: 0.3013 - acc: 0.8966 - val_loss: 0.5459 - val_acc: 0.8127\n",
      "Epoch 120/120\n",
      "33000/33000 [==============================] - 0s 15us/step - loss: 0.2998 - acc: 0.8972 - val_loss: 0.5460 - val_acc: 0.8150\n"
     ]
    }
   ],
   "source": [
    "random.seed(123)\n",
    "model = models.Sequential()\n",
    "model.add(layers.Dense(50, activation='relu', input_shape=(2000,))) #2 hidden layers\n",
    "model.add(layers.Dense(25, activation='relu'))\n",
    "model.add(layers.Dense(7, activation='softmax'))\n",
    "\n",
    "model.compile(optimizer='SGD',\n",
    "              loss='categorical_crossentropy',\n",
    "              metrics=['accuracy'])\n",
    "\n",
    "moredata_model = model.fit(train_final,\n",
    "                    label_train_final,\n",
    "                    epochs=120,\n",
    "                    batch_size=256,\n",
    "                    validation_data=(val, label_val))"
   ]
  },
  {
   "cell_type": "code",
   "execution_count": 44,
   "metadata": {},
   "outputs": [
    {
     "name": "stdout",
     "output_type": "stream",
     "text": [
      "33000/33000 [==============================] - 1s 21us/step\n",
      "4000/4000 [==============================] - 0s 22us/step\n"
     ]
    }
   ],
   "source": [
    "results_train = model.evaluate(train_final, label_train_final)\n",
    "results_test = model.evaluate(test, label_test)"
   ]
  },
  {
   "cell_type": "code",
   "execution_count": 45,
   "metadata": {},
   "outputs": [
    {
     "data": {
      "text/plain": [
       "[0.29492314792401864, 0.8997272727272727]"
      ]
     },
     "execution_count": 45,
     "metadata": {},
     "output_type": "execute_result"
    }
   ],
   "source": [
    "results_train"
   ]
  },
  {
   "cell_type": "code",
   "execution_count": 46,
   "metadata": {},
   "outputs": [
    {
     "data": {
      "text/plain": [
       "[0.5750258494615554, 0.805]"
      ]
     },
     "execution_count": 46,
     "metadata": {},
     "output_type": "execute_result"
    }
   ],
   "source": [
    "results_test"
   ]
  },
  {
   "cell_type": "markdown",
   "metadata": {},
   "source": [
    "With the same amount of epochs, you were able to get a fairly similar validation accuracy of 89.67 (compared to 88.55 in obtained in the first model in this lab). your test set accuracy went up from 75.8 to a staggering 80.225% though, without any other regularization technique. You can still consider early stopping, L1, L2 and dropout here. It's clear that having more data has a strong impact on model performance!"
   ]
  },
  {
   "cell_type": "markdown",
   "metadata": {},
   "source": [
    "## Additional Resources\n",
    "\n",
    "* https://github.com/susanli2016/Machine-Learning-with-Python/blob/master/Consumer_complaints.ipynb\n",
    "* https://machinelearningmastery.com/dropout-regularization-deep-learning-models-keras/\n",
    "* https://catalog.data.gov/dataset/consumer-complaint-database"
   ]
  },
  {
   "cell_type": "markdown",
   "metadata": {},
   "source": [
    "## Summary  \n",
    "\n",
    "In this lesson, you not only built an initial deep-learning model, you then used a validation set to tune your model using various types of regularization."
   ]
  }
 ],
 "metadata": {
  "kernelspec": {
   "display_name": "Python 3",
   "language": "python",
   "name": "python3"
  },
  "language_info": {
   "codemirror_mode": {
    "name": "ipython",
    "version": 3
   },
   "file_extension": ".py",
   "mimetype": "text/x-python",
   "name": "python",
   "nbconvert_exporter": "python",
   "pygments_lexer": "ipython3",
   "version": "3.6.6"
  }
 },
 "nbformat": 4,
 "nbformat_minor": 2
}
